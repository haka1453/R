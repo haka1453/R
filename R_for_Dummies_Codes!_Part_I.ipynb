{
  "nbformat": 4,
  "nbformat_minor": 0,
  "metadata": {
    "colab": {
      "name": "Copy of R for Dummies-Codes! Part I.irnb",
      "provenance": []
    },
    "kernelspec": {
      "name": "ir",
      "display_name": "R"
    },
    "language_info": {
      "name": "R"
    }
  },
  "cells": [
    {
      "cell_type": "markdown",
      "source": [
        "# Chapter I: Getting Started with R Programming\n",
        "\n",
        "# Chapter 2: Exploring R\n",
        "\n",
        "### Print 'Hello World!'"
      ],
      "metadata": {
        "id": "H5zCfTWZE8Tq"
      }
    },
    {
      "cell_type": "code",
      "execution_count": null,
      "metadata": {
        "colab": {
          "base_uri": "https://localhost:8080/",
          "height": 34
        },
        "id": "PAjYsSmCAWW5",
        "outputId": "8528b99d-82ee-42f0-ea4d-147eb8b44328"
      },
      "outputs": [
        {
          "output_type": "display_data",
          "data": {
            "text/plain": [
              "[1] \"Hello World!\""
            ],
            "text/latex": "'Hello World!'",
            "text/markdown": "'Hello World!'",
            "text/html": [
              "'Hello World!'"
            ]
          },
          "metadata": {}
        }
      ],
      "source": [
        "'Hello World!'"
      ]
    },
    {
      "cell_type": "code",
      "source": [
        "print('Hello World!')"
      ],
      "metadata": {
        "colab": {
          "base_uri": "https://localhost:8080/"
        },
        "id": "p_TiHFNnBH0C",
        "outputId": "3020da29-439b-40af-e94f-eee28b0ee207"
      },
      "execution_count": null,
      "outputs": [
        {
          "output_type": "stream",
          "name": "stdout",
          "text": [
            "[1] \"Hello World!\"\n"
          ]
        }
      ]
    },
    {
      "cell_type": "code",
      "source": [
        ""
      ],
      "metadata": {
        "id": "GAr8y2haFtaC"
      },
      "execution_count": null,
      "outputs": []
    },
    {
      "cell_type": "markdown",
      "source": [
        "### Vectors and Variables"
      ],
      "metadata": {
        "id": "sYsQ1HL6FuoF"
      }
    },
    {
      "cell_type": "markdown",
      "source": [
        "1+2+3+4+5"
      ],
      "metadata": {
        "id": "SUOE-S4KBNuq"
      }
    },
    {
      "cell_type": "code",
      "source": [
        "c(1,2,3,4,5)"
      ],
      "metadata": {
        "colab": {
          "base_uri": "https://localhost:8080/",
          "height": 34
        },
        "id": "G6CeUYhyBj_z",
        "outputId": "410d25c6-140b-46aa-fd30-02d53dfc3599"
      },
      "execution_count": null,
      "outputs": [
        {
          "output_type": "display_data",
          "data": {
            "text/plain": [
              "[1] 1 2 3 4 5"
            ],
            "text/latex": "\\begin{enumerate*}\n\\item 1\n\\item 2\n\\item 3\n\\item 4\n\\item 5\n\\end{enumerate*}\n",
            "text/markdown": "1. 1\n2. 2\n3. 3\n4. 4\n5. 5\n\n\n",
            "text/html": [
              "<style>\n",
              ".list-inline {list-style: none; margin:0; padding: 0}\n",
              ".list-inline>li {display: inline-block}\n",
              ".list-inline>li:not(:last-child)::after {content: \"\\00b7\"; padding: 0 .5ex}\n",
              "</style>\n",
              "<ol class=list-inline><li>1</li><li>2</li><li>3</li><li>4</li><li>5</li></ol>\n"
            ]
          },
          "metadata": {}
        }
      ]
    },
    {
      "cell_type": "code",
      "source": [
        "sum(1:5)"
      ],
      "metadata": {
        "colab": {
          "base_uri": "https://localhost:8080/",
          "height": 34
        },
        "id": "WS1bdcVKB10f",
        "outputId": "431ecc6c-299b-4bc5-994a-0fdb6b4c3f60"
      },
      "execution_count": null,
      "outputs": [
        {
          "output_type": "display_data",
          "data": {
            "text/plain": [
              "[1] 15"
            ],
            "text/latex": "15",
            "text/markdown": "15",
            "text/html": [
              "15"
            ]
          },
          "metadata": {}
        }
      ]
    },
    {
      "cell_type": "code",
      "source": [
        "x <- 1:5\n",
        "x; sum(x)"
      ],
      "metadata": {
        "colab": {
          "base_uri": "https://localhost:8080/",
          "height": 52
        },
        "id": "_2fJCmP0B6OF",
        "outputId": "0f9c81ed-ef99-496b-9df6-00c2272f2ab0"
      },
      "execution_count": null,
      "outputs": [
        {
          "output_type": "display_data",
          "data": {
            "text/plain": [
              "[1] 1 2 3 4 5"
            ],
            "text/latex": "\\begin{enumerate*}\n\\item 1\n\\item 2\n\\item 3\n\\item 4\n\\item 5\n\\end{enumerate*}\n",
            "text/markdown": "1. 1\n2. 2\n3. 3\n4. 4\n5. 5\n\n\n",
            "text/html": [
              "<style>\n",
              ".list-inline {list-style: none; margin:0; padding: 0}\n",
              ".list-inline>li {display: inline-block}\n",
              ".list-inline>li:not(:last-child)::after {content: \"\\00b7\"; padding: 0 .5ex}\n",
              "</style>\n",
              "<ol class=list-inline><li>1</li><li>2</li><li>3</li><li>4</li><li>5</li></ol>\n"
            ]
          },
          "metadata": {}
        },
        {
          "output_type": "display_data",
          "data": {
            "text/plain": [
              "[1] 15"
            ],
            "text/latex": "15",
            "text/markdown": "15",
            "text/html": [
              "15"
            ]
          },
          "metadata": {}
        }
      ]
    },
    {
      "cell_type": "code",
      "source": [
        "y <- 10\n",
        "x+y"
      ],
      "metadata": {
        "colab": {
          "base_uri": "https://localhost:8080/",
          "height": 34
        },
        "id": "B7db1kUFCLZ-",
        "outputId": "7c3c9137-c947-4266-a564-567df2b47769"
      },
      "execution_count": null,
      "outputs": [
        {
          "output_type": "display_data",
          "data": {
            "text/plain": [
              "[1] 11 12 13 14 15"
            ],
            "text/latex": "\\begin{enumerate*}\n\\item 11\n\\item 12\n\\item 13\n\\item 14\n\\item 15\n\\end{enumerate*}\n",
            "text/markdown": "1. 11\n2. 12\n3. 13\n4. 14\n5. 15\n\n\n",
            "text/html": [
              "<style>\n",
              ".list-inline {list-style: none; margin:0; padding: 0}\n",
              ".list-inline>li {display: inline-block}\n",
              ".list-inline>li:not(:last-child)::after {content: \"\\00b7\"; padding: 0 .5ex}\n",
              "</style>\n",
              "<ol class=list-inline><li>11</li><li>12</li><li>13</li><li>14</li><li>15</li></ol>\n"
            ]
          },
          "metadata": {}
        }
      ]
    },
    {
      "cell_type": "code",
      "source": [
        " z <- x + y\n",
        " z"
      ],
      "metadata": {
        "colab": {
          "base_uri": "https://localhost:8080/",
          "height": 34
        },
        "id": "wM12_pdRCT8P",
        "outputId": "04cd384d-f525-4915-ddb7-8494fb174127"
      },
      "execution_count": null,
      "outputs": [
        {
          "output_type": "display_data",
          "data": {
            "text/plain": [
              "[1] 11 12 13 14 15"
            ],
            "text/latex": "\\begin{enumerate*}\n\\item 11\n\\item 12\n\\item 13\n\\item 14\n\\item 15\n\\end{enumerate*}\n",
            "text/markdown": "1. 11\n2. 12\n3. 13\n4. 14\n5. 15\n\n\n",
            "text/html": [
              "<style>\n",
              ".list-inline {list-style: none; margin:0; padding: 0}\n",
              ".list-inline>li {display: inline-block}\n",
              ".list-inline>li:not(:last-child)::after {content: \"\\00b7\"; padding: 0 .5ex}\n",
              "</style>\n",
              "<ol class=list-inline><li>11</li><li>12</li><li>13</li><li>14</li><li>15</li></ol>\n"
            ]
          },
          "metadata": {}
        }
      ]
    },
    {
      "cell_type": "markdown",
      "source": [
        "### Input and print vectors!"
      ],
      "metadata": {
        "id": "oB3hXU5sGIK7"
      }
    },
    {
      "cell_type": "code",
      "source": [
        "h <- \"Hello\"\n",
        "h"
      ],
      "metadata": {
        "colab": {
          "base_uri": "https://localhost:8080/",
          "height": 34
        },
        "id": "7Zsf5riECqlo",
        "outputId": "c0e36850-e062-43ba-a64d-6c9434157bc8"
      },
      "execution_count": null,
      "outputs": [
        {
          "output_type": "display_data",
          "data": {
            "text/plain": [
              "[1] \"Hello\""
            ],
            "text/latex": "'Hello'",
            "text/markdown": "'Hello'",
            "text/html": [
              "'Hello'"
            ]
          },
          "metadata": {}
        }
      ]
    },
    {
      "cell_type": "code",
      "source": [
        "hw <- c(\"Hello\", \"world!\")\n",
        "hw"
      ],
      "metadata": {
        "colab": {
          "base_uri": "https://localhost:8080/",
          "height": 34
        },
        "id": "fd5gM8rMDWAo",
        "outputId": "092b3a8b-925c-403f-e807-68e0db3494d9"
      },
      "execution_count": null,
      "outputs": [
        {
          "output_type": "display_data",
          "data": {
            "text/plain": [
              "[1] \"Hello\"  \"world!\""
            ],
            "text/latex": "\\begin{enumerate*}\n\\item 'Hello'\n\\item 'world!'\n\\end{enumerate*}\n",
            "text/markdown": "1. 'Hello'\n2. 'world!'\n\n\n",
            "text/html": [
              "<style>\n",
              ".list-inline {list-style: none; margin:0; padding: 0}\n",
              ".list-inline>li {display: inline-block}\n",
              ".list-inline>li:not(:last-child)::after {content: \"\\00b7\"; padding: 0 .5ex}\n",
              "</style>\n",
              "<ol class=list-inline><li>'Hello'</li><li>'world!'</li></ol>\n"
            ]
          },
          "metadata": {}
        }
      ]
    },
    {
      "cell_type": "code",
      "source": [
        "paste(\"Hello\", \"world!\")"
      ],
      "metadata": {
        "colab": {
          "base_uri": "https://localhost:8080/",
          "height": 34
        },
        "id": "UXXS286DDbW9",
        "outputId": "06efb7ba-b6dc-49c7-b39f-e34fa283c55e"
      },
      "execution_count": null,
      "outputs": [
        {
          "output_type": "display_data",
          "data": {
            "text/plain": [
              "[1] \"Hello world!\""
            ],
            "text/latex": "'Hello world!'",
            "text/markdown": "'Hello world!'",
            "text/html": [
              "'Hello world!'"
            ]
          },
          "metadata": {}
        }
      ]
    },
    {
      "cell_type": "code",
      "source": [
        " h <- \"Hello\"\n",
        "yourname <- readline(\"What is your name? \")\n",
        "paste(h, yourname)"
      ],
      "metadata": {
        "colab": {
          "base_uri": "https://localhost:8080/",
          "height": 53
        },
        "id": "WLerKA_LDk0Z",
        "outputId": "eb9e3c02-f16e-44e5-cdd5-fe174188a30c"
      },
      "execution_count": null,
      "outputs": [
        {
          "name": "stdout",
          "output_type": "stream",
          "text": [
            "What is your name? Ali\n"
          ]
        },
        {
          "output_type": "display_data",
          "data": {
            "text/plain": [
              "[1] \"Hello Ali\""
            ],
            "text/latex": "'Hello Ali'",
            "text/markdown": "'Hello Ali'",
            "text/html": [
              "'Hello Ali'"
            ]
          },
          "metadata": {}
        }
      ]
    },
    {
      "cell_type": "markdown",
      "source": [
        "List and remove variables!"
      ],
      "metadata": {
        "id": "oD9OTOGTGWtO"
      }
    },
    {
      "cell_type": "code",
      "source": [
        "ls()"
      ],
      "metadata": {
        "colab": {
          "base_uri": "https://localhost:8080/",
          "height": 34
        },
        "id": "ETIO_XrBD7mR",
        "outputId": "baeda687-1226-4e09-b09d-67e108721c91"
      },
      "execution_count": null,
      "outputs": [
        {
          "output_type": "display_data",
          "data": {
            "text/plain": [
              "[1] \"h\"        \"hw\"       \"x\"        \"y\"        \"yourname\" \"z\"       "
            ],
            "text/latex": "\\begin{enumerate*}\n\\item 'h'\n\\item 'hw'\n\\item 'x'\n\\item 'y'\n\\item 'yourname'\n\\item 'z'\n\\end{enumerate*}\n",
            "text/markdown": "1. 'h'\n2. 'hw'\n3. 'x'\n4. 'y'\n5. 'yourname'\n6. 'z'\n\n\n",
            "text/html": [
              "<style>\n",
              ".list-inline {list-style: none; margin:0; padding: 0}\n",
              ".list-inline>li {display: inline-block}\n",
              ".list-inline>li:not(:last-child)::after {content: \"\\00b7\"; padding: 0 .5ex}\n",
              "</style>\n",
              "<ol class=list-inline><li>'h'</li><li>'hw'</li><li>'x'</li><li>'y'</li><li>'yourname'</li><li>'z'</li></ol>\n"
            ]
          },
          "metadata": {}
        }
      ]
    },
    {
      "cell_type": "code",
      "source": [
        "rm(z); ls()"
      ],
      "metadata": {
        "colab": {
          "base_uri": "https://localhost:8080/",
          "height": 34
        },
        "id": "kzmQaNOcEcgO",
        "outputId": "e05adff4-dee2-49f4-9ee3-59d328d5db09"
      },
      "execution_count": null,
      "outputs": [
        {
          "output_type": "display_data",
          "data": {
            "text/plain": [
              "[1] \"h\"        \"hw\"       \"x\"        \"y\"        \"yourname\""
            ],
            "text/latex": "\\begin{enumerate*}\n\\item 'h'\n\\item 'hw'\n\\item 'x'\n\\item 'y'\n\\item 'yourname'\n\\end{enumerate*}\n",
            "text/markdown": "1. 'h'\n2. 'hw'\n3. 'x'\n4. 'y'\n5. 'yourname'\n\n\n",
            "text/html": [
              "<style>\n",
              ".list-inline {list-style: none; margin:0; padding: 0}\n",
              ".list-inline>li {display: inline-block}\n",
              ".list-inline>li:not(:last-child)::after {content: \"\\00b7\"; padding: 0 .5ex}\n",
              "</style>\n",
              "<ol class=list-inline><li>'h'</li><li>'hw'</li><li>'x'</li><li>'y'</li><li>'yourname'</li></ol>\n"
            ]
          },
          "metadata": {}
        }
      ]
    },
    {
      "cell_type": "markdown",
      "source": [
        "### Working directory!"
      ],
      "metadata": {
        "id": "CLdZ6FZ2GcN1"
      }
    },
    {
      "cell_type": "code",
      "source": [
        "getwd()"
      ],
      "metadata": {
        "colab": {
          "base_uri": "https://localhost:8080/",
          "height": 34
        },
        "id": "-ZmE8Sc1Emyp",
        "outputId": "a5271861-3c01-415f-8f1f-aa5255dc7a5f"
      },
      "execution_count": null,
      "outputs": [
        {
          "output_type": "display_data",
          "data": {
            "text/plain": [
              "[1] \"/content\""
            ],
            "text/latex": "'/content'",
            "text/markdown": "'/content'",
            "text/html": [
              "'/content'"
            ]
          },
          "metadata": {}
        }
      ]
    },
    {
      "cell_type": "code",
      "source": [
        "save(yourname, file = \"yourname.rda\")"
      ],
      "metadata": {
        "id": "-0vk1b1WEtmy"
      },
      "execution_count": null,
      "outputs": []
    },
    {
      "cell_type": "code",
      "source": [
        "rm(yourname)"
      ],
      "metadata": {
        "id": "48SX9SlGGtuc"
      },
      "execution_count": null,
      "outputs": []
    },
    {
      "cell_type": "code",
      "source": [
        "load(\"yourname.rda\")"
      ],
      "metadata": {
        "id": "FEPp6C-xHAwy"
      },
      "execution_count": null,
      "outputs": []
    },
    {
      "cell_type": "markdown",
      "source": [
        "\n",
        "# Chapter 3: The Fundamentals of R\n",
        "\n",
        "### Vectors and vectorizing functions"
      ],
      "metadata": {
        "id": "qtNHugsnlwXR"
      }
    },
    {
      "cell_type": "code",
      "source": [
        "baskets.of.Granny <- c(12, 4, 4, 6, 9, 3)\n",
        "baskets.of.Granny\n",
        "sum(baskets.of.Granny)"
      ],
      "metadata": {
        "colab": {
          "base_uri": "https://localhost:8080/",
          "height": 52
        },
        "id": "qvMvfim0HMrk",
        "outputId": "dccc9b45-494f-41dd-9ddc-96fbf73c75cc"
      },
      "execution_count": null,
      "outputs": [
        {
          "output_type": "display_data",
          "data": {
            "text/plain": [
              "[1] 12  4  4  6  9  3"
            ],
            "text/latex": "\\begin{enumerate*}\n\\item 12\n\\item 4\n\\item 4\n\\item 6\n\\item 9\n\\item 3\n\\end{enumerate*}\n",
            "text/markdown": "1. 12\n2. 4\n3. 4\n4. 6\n5. 9\n6. 3\n\n\n",
            "text/html": [
              "<style>\n",
              ".list-inline {list-style: none; margin:0; padding: 0}\n",
              ".list-inline>li {display: inline-block}\n",
              ".list-inline>li:not(:last-child)::after {content: \"\\00b7\"; padding: 0 .5ex}\n",
              "</style>\n",
              "<ol class=list-inline><li>12</li><li>4</li><li>4</li><li>6</li><li>9</li><li>3</li></ol>\n"
            ]
          },
          "metadata": {}
        },
        {
          "output_type": "display_data",
          "data": {
            "text/plain": [
              "[1] 38"
            ],
            "text/latex": "38",
            "text/markdown": "38",
            "text/html": [
              "38"
            ]
          },
          "metadata": {}
        }
      ]
    },
    {
      "cell_type": "code",
      "source": [
        "firstnames <- c(\"Andrie\", \"Joris\")\n",
        "lastnames <- c(\"de Vries\", \"Meys\")\n",
        "paste(firstnames, lastnames)"
      ],
      "metadata": {
        "colab": {
          "base_uri": "https://localhost:8080/",
          "height": 34
        },
        "id": "FadoySaMHVjl",
        "outputId": "2b6975e5-bad1-41e0-f25c-53da5a72d15d"
      },
      "execution_count": null,
      "outputs": [
        {
          "output_type": "display_data",
          "data": {
            "text/plain": [
              "[1] \"Andrie de Vries\" \"Joris Meys\"     "
            ],
            "text/latex": "\\begin{enumerate*}\n\\item 'Andrie de Vries'\n\\item 'Joris Meys'\n\\end{enumerate*}\n",
            "text/markdown": "1. 'Andrie de Vries'\n2. 'Joris Meys'\n\n\n",
            "text/html": [
              "<style>\n",
              ".list-inline {list-style: none; margin:0; padding: 0}\n",
              ".list-inline>li {display: inline-block}\n",
              ".list-inline>li:not(:last-child)::after {content: \"\\00b7\"; padding: 0 .5ex}\n",
              "</style>\n",
              "<ol class=list-inline><li>'Andrie de Vries'</li><li>'Joris Meys'</li></ol>\n"
            ]
          },
          "metadata": {}
        }
      ]
    },
    {
      "cell_type": "code",
      "source": [
        "firstnames <- c(\"Joris\", \"Carolien\", \"Koen\")\n",
        "lastname <- \"Meys\"\n",
        "paste(firstnames,lastname)"
      ],
      "metadata": {
        "colab": {
          "base_uri": "https://localhost:8080/",
          "height": 34
        },
        "id": "hYNYTiI5HlYI",
        "outputId": "8355e608-0c82-45df-8342-7550da93e0d8"
      },
      "execution_count": null,
      "outputs": [
        {
          "output_type": "display_data",
          "data": {
            "text/plain": [
              "[1] \"Joris Meys\"    \"Carolien Meys\" \"Koen Meys\"    "
            ],
            "text/latex": "\\begin{enumerate*}\n\\item 'Joris Meys'\n\\item 'Carolien Meys'\n\\item 'Koen Meys'\n\\end{enumerate*}\n",
            "text/markdown": "1. 'Joris Meys'\n2. 'Carolien Meys'\n3. 'Koen Meys'\n\n\n",
            "text/html": [
              "<style>\n",
              ".list-inline {list-style: none; margin:0; padding: 0}\n",
              ".list-inline>li {display: inline-block}\n",
              ".list-inline>li:not(:last-child)::after {content: \"\\00b7\"; padding: 0 .5ex}\n",
              "</style>\n",
              "<ol class=list-inline><li>'Joris Meys'</li><li>'Carolien Meys'</li><li>'Koen Meys'</li></ol>\n"
            ]
          },
          "metadata": {}
        }
      ]
    },
    {
      "cell_type": "code",
      "source": [
        "print(x = \"Isn't this fun?\")"
      ],
      "metadata": {
        "colab": {
          "base_uri": "https://localhost:8080/"
        },
        "id": "KF0pl_8gHymZ",
        "outputId": "2f94503b-cbfd-4b91-b605-9c5b16d4acae"
      },
      "execution_count": null,
      "outputs": [
        {
          "output_type": "stream",
          "name": "stdout",
          "text": [
            "[1] \"Isn't this fun?\"\n"
          ]
        }
      ]
    },
    {
      "cell_type": "code",
      "source": [
        "x"
      ],
      "metadata": {
        "colab": {
          "base_uri": "https://localhost:8080/",
          "height": 34
        },
        "id": "vkz-4GkdH_EM",
        "outputId": "52667c04-5b87-4423-b9ce-0c36bf1340e9"
      },
      "execution_count": null,
      "outputs": [
        {
          "output_type": "display_data",
          "data": {
            "text/plain": [
              "[1] 1 2 3 4 5"
            ],
            "text/latex": "\\begin{enumerate*}\n\\item 1\n\\item 2\n\\item 3\n\\item 4\n\\item 5\n\\end{enumerate*}\n",
            "text/markdown": "1. 1\n2. 2\n3. 3\n4. 4\n5. 5\n\n\n",
            "text/html": [
              "<style>\n",
              ".list-inline {list-style: none; margin:0; padding: 0}\n",
              ".list-inline>li {display: inline-block}\n",
              ".list-inline>li:not(:last-child)::after {content: \"\\00b7\"; padding: 0 .5ex}\n",
              "</style>\n",
              "<ol class=list-inline><li>1</li><li>2</li><li>3</li><li>4</li><li>5</li></ol>\n"
            ]
          },
          "metadata": {}
        }
      ]
    },
    {
      "cell_type": "code",
      "source": [
        "print(digits = 4, x = 11/7)"
      ],
      "metadata": {
        "colab": {
          "base_uri": "https://localhost:8080/"
        },
        "id": "JyzFI-R_ITwT",
        "outputId": "8f4d497a-4a37-4c82-9ae2-734061e9c128"
      },
      "execution_count": null,
      "outputs": [
        {
          "output_type": "stream",
          "name": "stdout",
          "text": [
            "[1] 1.571\n"
          ]
        }
      ]
    },
    {
      "cell_type": "markdown",
      "source": [
        "### Paste() and cat()!"
      ],
      "metadata": {
        "id": "HQ_DQ_TPmXRn"
      }
    },
    {
      "cell_type": "code",
      "source": [
        "paste <- paste(\"This gets\",\"confusing\")\n",
        "paste"
      ],
      "metadata": {
        "colab": {
          "base_uri": "https://localhost:8080/",
          "height": 34
        },
        "id": "eWtvxyC4I4Ck",
        "outputId": "ba64ce97-ddb1-4a97-fc98-73bb74e897f9"
      },
      "execution_count": null,
      "outputs": [
        {
          "output_type": "display_data",
          "data": {
            "text/plain": [
              "[1] \"This gets confusing\""
            ],
            "text/latex": "'This gets confusing'",
            "text/markdown": "'This gets confusing'",
            "text/html": [
              "'This gets confusing'"
            ]
          },
          "metadata": {}
        }
      ]
    },
    {
      "cell_type": "code",
      "source": [
        "paste(\"Don't\",\"you\",\"think?\")"
      ],
      "metadata": {
        "colab": {
          "base_uri": "https://localhost:8080/",
          "height": 34
        },
        "id": "-iegEVepJMy3",
        "outputId": "e51f6c23-b67c-4ccc-e828-2b83c305b76e"
      },
      "execution_count": null,
      "outputs": [
        {
          "output_type": "display_data",
          "data": {
            "text/plain": [
              "[1] \"Don't you think?\""
            ],
            "text/latex": "'Don\\textbackslash{}'t you think?'",
            "text/markdown": "'Don\\'t you think?'",
            "text/html": [
              "'Don\\'t you think?'"
            ]
          },
          "metadata": {}
        }
      ]
    },
    {
      "cell_type": "code",
      "source": [
        "baskets.of.Geraldine <- \n",
        "    c(5, 3, 2, 2, 12, 9)\n",
        "Intro <- \"It is amazing! The All Star Grannies scored\n",
        "a total of\"\n",
        "Outro <- \"baskets in the last six games!\"\n",
        "Total.baskets <- baskets.of.Granny +\n",
        "    baskets.of.Geraldine\n",
        "Text <- paste(Intro,\n",
        "    sum(Total.baskets),\n",
        "    Outro)\n",
        "cat(Text)"
      ],
      "metadata": {
        "colab": {
          "base_uri": "https://localhost:8080/"
        },
        "id": "fyIQkCR3JSJY",
        "outputId": "327ae8e2-3e61-423f-c484-a976a1f49d4b"
      },
      "execution_count": null,
      "outputs": [
        {
          "output_type": "stream",
          "name": "stdout",
          "text": [
            "It is amazing! The All Star Grannies scored\n",
            "a total of 71 baskets in the last six games!"
          ]
        }
      ]
    },
    {
      "cell_type": "code",
      "source": [
        "Text"
      ],
      "metadata": {
        "colab": {
          "base_uri": "https://localhost:8080/",
          "height": 34
        },
        "id": "GRj_AXd7J0er",
        "outputId": "f33361ea-1c51-4475-f8d4-c3223c38b3dc"
      },
      "execution_count": null,
      "outputs": [
        {
          "output_type": "display_data",
          "data": {
            "text/plain": [
              "[1] \"It is amazing! The All Star Grannies scored\\na total of 71 baskets in the last six games!\""
            ],
            "text/latex": "'It is amazing! The All Star Grannies scored\\textbackslash{}na total of 71 baskets in the last six games!'",
            "text/markdown": "'It is amazing! The All Star Grannies scored\\na total of 71 baskets in the last six games!'",
            "text/html": [
              "'It is amazing! The All Star Grannies scored\\na total of 71 baskets in the last six games!'"
            ]
          },
          "metadata": {}
        }
      ]
    },
    {
      "cell_type": "code",
      "source": [
        "cat(\"If you doubt whether it works,\n",
        "+ just try it out.\")"
      ],
      "metadata": {
        "colab": {
          "base_uri": "https://localhost:8080/"
        },
        "id": "7mn4g9mnKN9c",
        "outputId": "bd7bb55b-389d-42cc-b8c7-8b79129aee24"
      },
      "execution_count": null,
      "outputs": [
        {
          "output_type": "stream",
          "name": "stdout",
          "text": [
            "If you doubt whether it works,\n",
            "+ just try it out."
          ]
        }
      ]
    },
    {
      "cell_type": "code",
      "source": [
        "# The All Star Grannies do it again!\n",
        "baskets.of.Granny <- c(12,4,4,6,9,3); # Granny rules\n",
        "sum(baskets.of.Granny) # total number of baskets"
      ],
      "metadata": {
        "colab": {
          "base_uri": "https://localhost:8080/",
          "height": 34
        },
        "id": "0aiKCqVUKYZT",
        "outputId": "a5ac0e41-41ee-425b-ef59-5e8e472fb2d2"
      },
      "execution_count": null,
      "outputs": [
        {
          "output_type": "display_data",
          "data": {
            "text/plain": [
              "[1] 38"
            ],
            "text/latex": "38",
            "text/markdown": "38",
            "text/html": [
              "38"
            ]
          },
          "metadata": {}
        }
      ]
    },
    {
      "cell_type": "markdown",
      "source": [
        "### Packages!"
      ],
      "metadata": {
        "id": "4kkx-Sq3nCEK"
      }
    },
    {
      "cell_type": "code",
      "source": [
        "install.packages(\"fortunes\")"
      ],
      "metadata": {
        "colab": {
          "base_uri": "https://localhost:8080/"
        },
        "id": "80mztKGqKqJG",
        "outputId": "f9dfe3e4-5055-4559-ae04-8678cb715af9"
      },
      "execution_count": null,
      "outputs": [
        {
          "output_type": "stream",
          "name": "stderr",
          "text": [
            "Installing package into ‘/usr/local/lib/R/site-library’\n",
            "(as ‘lib’ is unspecified)\n",
            "\n"
          ]
        }
      ]
    },
    {
      "cell_type": "code",
      "source": [
        "library(\"fortunes\")"
      ],
      "metadata": {
        "id": "Hl-K6vv2LB13"
      },
      "execution_count": null,
      "outputs": []
    },
    {
      "cell_type": "code",
      "source": [
        "fortune(\"This is R\")"
      ],
      "metadata": {
        "colab": {
          "base_uri": "https://localhost:8080/",
          "height": 128
        },
        "id": "Uzg9h7WzLMSG",
        "outputId": "574fbc5d-8f2c-487c-9b1f-a0742a140d65"
      },
      "execution_count": null,
      "outputs": [
        {
          "output_type": "display_data",
          "data": {
            "text/plain": [
              "\n",
              "Evelyn Hall: I would like to know how (if) I can extract some of the\n",
              "information from the summary of my nlme.\n",
              "Simon Blomberg: This is R. There is no if. Only how.\n",
              "   -- Evelyn Hall and Simon 'Yoda' Blomberg\n",
              "      R-help (April 2005)\n"
            ]
          },
          "metadata": {}
        }
      ]
    },
    {
      "cell_type": "code",
      "source": [
        "fortune(161)"
      ],
      "metadata": {
        "colab": {
          "base_uri": "https://localhost:8080/",
          "height": 165
        },
        "id": "8Alzr6N6LSfJ",
        "outputId": "b739d825-433e-40a8-a8c9-4ba294073159"
      },
      "execution_count": null,
      "outputs": [
        {
          "output_type": "display_data",
          "data": {
            "text/plain": [
              "\n",
              "(3 times...rrrrgh...) and why do you think the mailing list is called\n",
              "R-*packages* ???????????\n",
              "Please do\n",
              "  for(i in 1:20) cat(\"It's a package!\\n\")\n",
              "   -- Martin Maechler (after a newly released *package* has been called\n",
              "      *library* three times in its announcement on R-packages)\n",
              "      R-help (March 2006)\n"
            ]
          },
          "metadata": {}
        }
      ]
    },
    {
      "cell_type": "code",
      "source": [
        "for(i in 1:20) cat(\"It's a package!\\n\")"
      ],
      "metadata": {
        "colab": {
          "base_uri": "https://localhost:8080/"
        },
        "id": "yx0haBZGOsIJ",
        "outputId": "66da36f6-bdc2-432f-870f-668c98a57654"
      },
      "execution_count": null,
      "outputs": [
        {
          "output_type": "stream",
          "name": "stdout",
          "text": [
            "It's a package!\n",
            "It's a package!\n",
            "It's a package!\n",
            "It's a package!\n",
            "It's a package!\n",
            "It's a package!\n",
            "It's a package!\n",
            "It's a package!\n",
            "It's a package!\n",
            "It's a package!\n",
            "It's a package!\n",
            "It's a package!\n",
            "It's a package!\n",
            "It's a package!\n",
            "It's a package!\n",
            "It's a package!\n",
            "It's a package!\n",
            "It's a package!\n",
            "It's a package!\n",
            "It's a package!\n"
          ]
        }
      ]
    },
    {
      "cell_type": "code",
      "source": [
        "detach(package:fortunes, unload=TRUE)"
      ],
      "metadata": {
        "id": "IxY9IbNzPEUu"
      },
      "execution_count": null,
      "outputs": []
    },
    {
      "cell_type": "code",
      "source": [
        "fortune(161)"
      ],
      "metadata": {
        "colab": {
          "base_uri": "https://localhost:8080/",
          "height": 99
        },
        "id": "XQ1r-z0DPM_Z",
        "outputId": "354c5338-858c-4baf-d560-25bbc0e80fd4"
      },
      "execution_count": null,
      "outputs": [
        {
          "output_type": "error",
          "ename": "ERROR",
          "evalue": "ignored",
          "traceback": [
            "Error in fortune(161): could not find function \"fortune\"\nTraceback:\n"
          ]
        }
      ]
    },
    {
      "cell_type": "markdown",
      "source": [
        "# Chapter 4: Getting Started with Arithmetic\n",
        "\n",
        "### Basic Arythmetic Operators!"
      ],
      "metadata": {
        "id": "yTFnDn_rPa4F"
      }
    },
    {
      "cell_type": "code",
      "source": [
        "x = 2; y = 3"
      ],
      "metadata": {
        "id": "yNJoSEa5PRSA"
      },
      "execution_count": null,
      "outputs": []
    },
    {
      "cell_type": "code",
      "source": [
        "x + y; x - y; x * y; \n",
        "x / y; x ^ y\n",
        "x %% y; x %/% y"
      ],
      "metadata": {
        "colab": {
          "base_uri": "https://localhost:8080/",
          "height": 139
        },
        "id": "eerByhF4QFQ-",
        "outputId": "22e00eae-ae6f-4f94-edfa-9ede4b2b9d11"
      },
      "execution_count": null,
      "outputs": [
        {
          "output_type": "display_data",
          "data": {
            "text/plain": [
              "[1] 5"
            ],
            "text/latex": "5",
            "text/markdown": "5",
            "text/html": [
              "5"
            ]
          },
          "metadata": {}
        },
        {
          "output_type": "display_data",
          "data": {
            "text/plain": [
              "[1] -1"
            ],
            "text/latex": "-1",
            "text/markdown": "-1",
            "text/html": [
              "-1"
            ]
          },
          "metadata": {}
        },
        {
          "output_type": "display_data",
          "data": {
            "text/plain": [
              "[1] 6"
            ],
            "text/latex": "6",
            "text/markdown": "6",
            "text/html": [
              "6"
            ]
          },
          "metadata": {}
        },
        {
          "output_type": "display_data",
          "data": {
            "text/plain": [
              "[1] 0.6666667"
            ],
            "text/latex": "0.666666666666667",
            "text/markdown": "0.666666666666667",
            "text/html": [
              "0.666666666666667"
            ]
          },
          "metadata": {}
        },
        {
          "output_type": "display_data",
          "data": {
            "text/plain": [
              "[1] 8"
            ],
            "text/latex": "8",
            "text/markdown": "8",
            "text/html": [
              "8"
            ]
          },
          "metadata": {}
        },
        {
          "output_type": "display_data",
          "data": {
            "text/plain": [
              "[1] 2"
            ],
            "text/latex": "2",
            "text/markdown": "2",
            "text/html": [
              "2"
            ]
          },
          "metadata": {}
        },
        {
          "output_type": "display_data",
          "data": {
            "text/plain": [
              "[1] 0"
            ],
            "text/latex": "0",
            "text/markdown": "0",
            "text/html": [
              "0"
            ]
          },
          "metadata": {}
        }
      ]
    },
    {
      "cell_type": "markdown",
      "source": [
        "### Operations in Vectors!"
      ],
      "metadata": {
        "id": "oB-g4xDhndpy"
      }
    },
    {
      "cell_type": "code",
      "source": [
        "baskets.of.Granny <- c(12, 4, 4, 6, 9, 3)\n",
        "baskets.of.Geraldine <- c(5, 3, 2, 2, 12, 9)\n",
        "Granny.money <- baskets.of.Granny * 120\n",
        "Geraldine.money <- baskets.of.Geraldine * 145\n",
        "Granny.money + Geraldine.money"
      ],
      "metadata": {
        "colab": {
          "base_uri": "https://localhost:8080/",
          "height": 34
        },
        "id": "K1_sGrN7QcVv",
        "outputId": "2dba0558-b266-4b6f-b45a-8587a74f80a4"
      },
      "execution_count": null,
      "outputs": [
        {
          "output_type": "display_data",
          "data": {
            "text/plain": [
              "[1] 2165  915  770 1010 2820 1665"
            ],
            "text/latex": "\\begin{enumerate*}\n\\item 2165\n\\item 915\n\\item 770\n\\item 1010\n\\item 2820\n\\item 1665\n\\end{enumerate*}\n",
            "text/markdown": "1. 2165\n2. 915\n3. 770\n4. 1010\n5. 2820\n6. 1665\n\n\n",
            "text/html": [
              "<style>\n",
              ".list-inline {list-style: none; margin:0; padding: 0}\n",
              ".list-inline>li {display: inline-block}\n",
              ".list-inline>li:not(:last-child)::after {content: \"\\00b7\"; padding: 0 .5ex}\n",
              "</style>\n",
              "<ol class=list-inline><li>2165</li><li>915</li><li>770</li><li>1010</li><li>2820</li><li>1665</li></ol>\n"
            ]
          },
          "metadata": {}
        }
      ]
    },
    {
      "cell_type": "code",
      "source": [
        "4 + 2 * 3\n",
        "(4 + 2)* 3"
      ],
      "metadata": {
        "colab": {
          "base_uri": "https://localhost:8080/",
          "height": 52
        },
        "id": "REoiZ8CVREJH",
        "outputId": "b8ef1de5-985f-456c-f58a-cf5f33c085f9"
      },
      "execution_count": null,
      "outputs": [
        {
          "output_type": "display_data",
          "data": {
            "text/plain": [
              "[1] 10"
            ],
            "text/latex": "10",
            "text/markdown": "10",
            "text/html": [
              "10"
            ]
          },
          "metadata": {}
        },
        {
          "output_type": "display_data",
          "data": {
            "text/plain": [
              "[1] 18"
            ],
            "text/latex": "18",
            "text/markdown": "18",
            "text/html": [
              "18"
            ]
          },
          "metadata": {}
        }
      ]
    },
    {
      "cell_type": "markdown",
      "source": [
        "### Mathematical Functions!"
      ],
      "metadata": {
        "id": "_w7aEQfFn2O1"
      }
    },
    {
      "cell_type": "code",
      "source": [
        "abs(-3)"
      ],
      "metadata": {
        "colab": {
          "base_uri": "https://localhost:8080/",
          "height": 34
        },
        "id": "gzuQ9Ot_Rb2A",
        "outputId": "aa6a4197-aa42-4b42-bc61-748d77bd71d6"
      },
      "execution_count": null,
      "outputs": [
        {
          "output_type": "display_data",
          "data": {
            "text/plain": [
              "[1] 3"
            ],
            "text/latex": "3",
            "text/markdown": "3",
            "text/html": [
              "3"
            ]
          },
          "metadata": {}
        }
      ]
    },
    {
      "cell_type": "code",
      "source": [
        "log(100, base=10)"
      ],
      "metadata": {
        "colab": {
          "base_uri": "https://localhost:8080/",
          "height": 34
        },
        "id": "NtTzh8HoRmiM",
        "outputId": "ee32c543-685e-4472-e030-843096af6bc2"
      },
      "execution_count": null,
      "outputs": [
        {
          "output_type": "display_data",
          "data": {
            "text/plain": [
              "[1] 2"
            ],
            "text/latex": "2",
            "text/markdown": "2",
            "text/html": [
              "2"
            ]
          },
          "metadata": {}
        }
      ]
    },
    {
      "cell_type": "code",
      "source": [
        "exp(1)"
      ],
      "metadata": {
        "colab": {
          "base_uri": "https://localhost:8080/",
          "height": 34
        },
        "id": "Zpdk27ttRtNf",
        "outputId": "063cc14a-89fd-41f8-af60-6d0c6be5bc41"
      },
      "execution_count": null,
      "outputs": [
        {
          "output_type": "display_data",
          "data": {
            "text/plain": [
              "[1] 2.718282"
            ],
            "text/latex": "2.71828182845905",
            "text/markdown": "2.71828182845905",
            "text/html": [
              "2.71828182845905"
            ]
          },
          "metadata": {}
        }
      ]
    },
    {
      "cell_type": "code",
      "source": [
        "sqrt(16)"
      ],
      "metadata": {
        "colab": {
          "base_uri": "https://localhost:8080/",
          "height": 34
        },
        "id": "_ADHDKuNRxcg",
        "outputId": "8fca7165-bbd2-4f2e-d705-23dc6b43aaad"
      },
      "execution_count": null,
      "outputs": [
        {
          "output_type": "display_data",
          "data": {
            "text/plain": [
              "[1] 4"
            ],
            "text/latex": "4",
            "text/markdown": "4",
            "text/html": [
              "4"
            ]
          },
          "metadata": {}
        }
      ]
    },
    {
      "cell_type": "code",
      "source": [
        "factorial(5)"
      ],
      "metadata": {
        "colab": {
          "base_uri": "https://localhost:8080/",
          "height": 34
        },
        "id": "AYMceV6AR86o",
        "outputId": "90c2c8eb-8ad1-493c-cb12-fb2baf070b7c"
      },
      "execution_count": null,
      "outputs": [
        {
          "output_type": "display_data",
          "data": {
            "text/plain": [
              "[1] 120"
            ],
            "text/latex": "120",
            "text/markdown": "120",
            "text/html": [
              "120"
            ]
          },
          "metadata": {}
        }
      ]
    },
    {
      "cell_type": "code",
      "source": [
        "choose(2,2)"
      ],
      "metadata": {
        "colab": {
          "base_uri": "https://localhost:8080/",
          "height": 34
        },
        "id": "oVBNsHP1SF8n",
        "outputId": "c5a62df9-1ebb-48b1-f6d4-51711ea8f3c5"
      },
      "execution_count": null,
      "outputs": [
        {
          "output_type": "display_data",
          "data": {
            "text/plain": [
              "[1] 1"
            ],
            "text/latex": "1",
            "text/markdown": "1",
            "text/html": [
              "1"
            ]
          },
          "metadata": {}
        }
      ]
    },
    {
      "cell_type": "code",
      "source": [
        "log(1:3);            log(1:3, base=6)"
      ],
      "metadata": {
        "colab": {
          "base_uri": "https://localhost:8080/",
          "height": 52
        },
        "id": "QH3oakf0SQqo",
        "outputId": "3066d810-0623-4f38-9480-24f3ecd31b77"
      },
      "execution_count": null,
      "outputs": [
        {
          "output_type": "display_data",
          "data": {
            "text/plain": [
              "[1] 0.0000000 0.6931472 1.0986123"
            ],
            "text/latex": "\\begin{enumerate*}\n\\item 0\n\\item 0.693147180559945\n\\item 1.09861228866811\n\\end{enumerate*}\n",
            "text/markdown": "1. 0\n2. 0.693147180559945\n3. 1.09861228866811\n\n\n",
            "text/html": [
              "<style>\n",
              ".list-inline {list-style: none; margin:0; padding: 0}\n",
              ".list-inline>li {display: inline-block}\n",
              ".list-inline>li:not(:last-child)::after {content: \"\\00b7\"; padding: 0 .5ex}\n",
              "</style>\n",
              "<ol class=list-inline><li>0</li><li>0.693147180559945</li><li>1.09861228866811</li></ol>\n"
            ]
          },
          "metadata": {}
        },
        {
          "output_type": "display_data",
          "data": {
            "text/plain": [
              "[1] 0.0000000 0.3868528 0.6131472"
            ],
            "text/latex": "\\begin{enumerate*}\n\\item 0\n\\item 0.386852807234542\n\\item 0.613147192765458\n\\end{enumerate*}\n",
            "text/markdown": "1. 0\n2. 0.386852807234542\n3. 0.613147192765458\n\n\n",
            "text/html": [
              "<style>\n",
              ".list-inline {list-style: none; margin:0; padding: 0}\n",
              ".list-inline>li {display: inline-block}\n",
              ".list-inline>li:not(:last-child)::after {content: \"\\00b7\"; padding: 0 .5ex}\n",
              "</style>\n",
              "<ol class=list-inline><li>0</li><li>0.386852807234542</li><li>0.613147192765458</li></ol>\n"
            ]
          },
          "metadata": {}
        }
      ]
    },
    {
      "cell_type": "code",
      "source": [
        "x <- log(1:3)\n",
        "exp(x)"
      ],
      "metadata": {
        "colab": {
          "base_uri": "https://localhost:8080/",
          "height": 34
        },
        "id": "1F69jUEzSn9N",
        "outputId": "4ca36ff5-e950-4020-8561-01886d8f0306"
      },
      "execution_count": null,
      "outputs": [
        {
          "output_type": "display_data",
          "data": {
            "text/plain": [
              "[1] 1 2 3"
            ],
            "text/latex": "\\begin{enumerate*}\n\\item 1\n\\item 2\n\\item 3\n\\end{enumerate*}\n",
            "text/markdown": "1. 1\n2. 2\n3. 3\n\n\n",
            "text/html": [
              "<style>\n",
              ".list-inline {list-style: none; margin:0; padding: 0}\n",
              ".list-inline>li {display: inline-block}\n",
              ".list-inline>li:not(:last-child)::after {content: \"\\00b7\"; padding: 0 .5ex}\n",
              "</style>\n",
              "<ol class=list-inline><li>1</li><li>2</li><li>3</li></ol>\n"
            ]
          },
          "metadata": {}
        }
      ]
    },
    {
      "cell_type": "code",
      "source": [
        "1000^2"
      ],
      "metadata": {
        "colab": {
          "base_uri": "https://localhost:8080/",
          "height": 34
        },
        "id": "7H0qD4AcS7Ky",
        "outputId": "37e09261-1f90-419a-9ae2-92b11535daec"
      },
      "execution_count": null,
      "outputs": [
        {
          "output_type": "display_data",
          "data": {
            "text/plain": [
              "[1] 1e+06"
            ],
            "text/latex": "1e+06",
            "text/markdown": "1e+06",
            "text/html": [
              "1e+06"
            ]
          },
          "metadata": {}
        }
      ]
    },
    {
      "cell_type": "code",
      "source": [
        " 1.33e4"
      ],
      "metadata": {
        "colab": {
          "base_uri": "https://localhost:8080/",
          "height": 34
        },
        "id": "Fs1zvQMBTEcC",
        "outputId": "8eefee60-3f3f-4d78-85f2-88d2faf212a0"
      },
      "execution_count": null,
      "outputs": [
        {
          "output_type": "display_data",
          "data": {
            "text/plain": [
              "[1] 13300"
            ],
            "text/latex": "13300",
            "text/markdown": "13300",
            "text/html": [
              "13300"
            ]
          },
          "metadata": {}
        }
      ]
    },
    {
      "cell_type": "code",
      "source": [
        " 4.12e-2"
      ],
      "metadata": {
        "colab": {
          "base_uri": "https://localhost:8080/",
          "height": 34
        },
        "id": "HHicw35KTIxn",
        "outputId": "ed8c00d6-9d4c-4344-fd8b-a564ac0d0672"
      },
      "execution_count": null,
      "outputs": [
        {
          "output_type": "display_data",
          "data": {
            "text/plain": [
              "[1] 0.0412"
            ],
            "text/latex": "0.0412",
            "text/markdown": "0.0412",
            "text/html": [
              "0.0412"
            ]
          },
          "metadata": {}
        }
      ]
    },
    {
      "cell_type": "code",
      "source": [
        "1.2e6 / 2e3"
      ],
      "metadata": {
        "colab": {
          "base_uri": "https://localhost:8080/",
          "height": 34
        },
        "id": "tPKlaujYTNOY",
        "outputId": "dffd77dc-274a-42e4-df09-cf5f6dc086be"
      },
      "execution_count": null,
      "outputs": [
        {
          "output_type": "display_data",
          "data": {
            "text/plain": [
              "[1] 600"
            ],
            "text/latex": "600",
            "text/markdown": "600",
            "text/html": [
              "600"
            ]
          },
          "metadata": {}
        }
      ]
    },
    {
      "cell_type": "code",
      "source": [
        "round(123.456, digits = 2); round(123.456, digits = -2)"
      ],
      "metadata": {
        "colab": {
          "base_uri": "https://localhost:8080/",
          "height": 52
        },
        "id": "JVv9SCsKTS6r",
        "outputId": "6843f712-b047-4fc9-aad1-19263bff7957"
      },
      "execution_count": null,
      "outputs": [
        {
          "output_type": "display_data",
          "data": {
            "text/plain": [
              "[1] 123.46"
            ],
            "text/latex": "123.46",
            "text/markdown": "123.46",
            "text/html": [
              "123.46"
            ]
          },
          "metadata": {}
        },
        {
          "output_type": "display_data",
          "data": {
            "text/plain": [
              "[1] 100"
            ],
            "text/latex": "100",
            "text/markdown": "100",
            "text/html": [
              "100"
            ]
          },
          "metadata": {}
        }
      ]
    },
    {
      "cell_type": "code",
      "source": [
        "signif(-123.456, digits = 4)"
      ],
      "metadata": {
        "colab": {
          "base_uri": "https://localhost:8080/",
          "height": 34
        },
        "id": "2bx3VYY5TXvC",
        "outputId": "77a2ebf2-7789-4c29-b042-dd4cb281a287"
      },
      "execution_count": null,
      "outputs": [
        {
          "output_type": "display_data",
          "data": {
            "text/plain": [
              "[1] -123.5"
            ],
            "text/latex": "-123.5",
            "text/markdown": "-123.5",
            "text/html": [
              "-123.5"
            ]
          },
          "metadata": {}
        }
      ]
    },
    {
      "cell_type": "code",
      "source": [
        "floor(123.45); floor(-123.45)"
      ],
      "metadata": {
        "colab": {
          "base_uri": "https://localhost:8080/",
          "height": 52
        },
        "id": "x-SU-moNTcip",
        "outputId": "35e33b7e-3a49-49a8-d254-c4790f795e07"
      },
      "execution_count": null,
      "outputs": [
        {
          "output_type": "display_data",
          "data": {
            "text/plain": [
              "[1] 123"
            ],
            "text/latex": "123",
            "text/markdown": "123",
            "text/html": [
              "123"
            ]
          },
          "metadata": {}
        },
        {
          "output_type": "display_data",
          "data": {
            "text/plain": [
              "[1] -124"
            ],
            "text/latex": "-124",
            "text/markdown": "-124",
            "text/html": [
              "-124"
            ]
          },
          "metadata": {}
        }
      ]
    },
    {
      "cell_type": "code",
      "source": [
        "ceiling(123.45); ceiling(-123.45)"
      ],
      "metadata": {
        "colab": {
          "base_uri": "https://localhost:8080/",
          "height": 52
        },
        "id": "eTa-zBisT1lx",
        "outputId": "69b40d33-7d0b-466d-9094-beae2ca0d7f5"
      },
      "execution_count": null,
      "outputs": [
        {
          "output_type": "display_data",
          "data": {
            "text/plain": [
              "[1] 124"
            ],
            "text/latex": "124",
            "text/markdown": "124",
            "text/html": [
              "124"
            ]
          },
          "metadata": {}
        },
        {
          "output_type": "display_data",
          "data": {
            "text/plain": [
              "[1] -123"
            ],
            "text/latex": "-123",
            "text/markdown": "-123",
            "text/html": [
              "-123"
            ]
          },
          "metadata": {}
        }
      ]
    },
    {
      "cell_type": "code",
      "source": [
        "trunc(123.65); trunc(-123.65)"
      ],
      "metadata": {
        "colab": {
          "base_uri": "https://localhost:8080/",
          "height": 52
        },
        "id": "a7ofd98SUB2x",
        "outputId": "9aa60318-816b-455f-f03b-a55e9d39400e"
      },
      "execution_count": null,
      "outputs": [
        {
          "output_type": "display_data",
          "data": {
            "text/plain": [
              "[1] 123"
            ],
            "text/latex": "123",
            "text/markdown": "123",
            "text/html": [
              "123"
            ]
          },
          "metadata": {}
        },
        {
          "output_type": "display_data",
          "data": {
            "text/plain": [
              "[1] -123"
            ],
            "text/latex": "-123",
            "text/markdown": "-123",
            "text/html": [
              "-123"
            ]
          },
          "metadata": {}
        }
      ]
    },
    {
      "cell_type": "code",
      "source": [
        "cos(120);      cos(120 * pi / 180)"
      ],
      "metadata": {
        "colab": {
          "base_uri": "https://localhost:8080/",
          "height": 52
        },
        "id": "BgbyY7dyUKyy",
        "outputId": "770802dd-502d-4d5d-e6ea-a075c40389c8"
      },
      "execution_count": null,
      "outputs": [
        {
          "output_type": "display_data",
          "data": {
            "text/plain": [
              "[1] 0.814181"
            ],
            "text/latex": "0.814180970526562",
            "text/markdown": "0.814180970526562",
            "text/html": [
              "0.814180970526562"
            ]
          },
          "metadata": {}
        },
        {
          "output_type": "display_data",
          "data": {
            "text/plain": [
              "[1] -0.5"
            ],
            "text/latex": "-0.5",
            "text/markdown": "-0.5",
            "text/html": [
              "-0.5"
            ]
          },
          "metadata": {}
        }
      ]
    },
    {
      "cell_type": "code",
      "source": [
        "'+'(2, 3);      '-'(2, 3)"
      ],
      "metadata": {
        "colab": {
          "base_uri": "https://localhost:8080/",
          "height": 52
        },
        "id": "ltGmQTAcUO5m",
        "outputId": "be9ba536-6f07-4566-d751-4430d0c764dd"
      },
      "execution_count": null,
      "outputs": [
        {
          "output_type": "display_data",
          "data": {
            "text/plain": [
              "[1] 5"
            ],
            "text/latex": "5",
            "text/markdown": "5",
            "text/html": [
              "5"
            ]
          },
          "metadata": {}
        },
        {
          "output_type": "display_data",
          "data": {
            "text/plain": [
              "[1] -1"
            ],
            "text/latex": "-1",
            "text/markdown": "-1",
            "text/html": [
              "-1"
            ]
          },
          "metadata": {}
        }
      ]
    },
    {
      "cell_type": "markdown",
      "source": [
        "### Scientific Notations! e, inf, na, nan!"
      ],
      "metadata": {
        "id": "g8-2gg2KoHtK"
      }
    },
    {
      "cell_type": "code",
      "source": [
        "2 / 0"
      ],
      "metadata": {
        "colab": {
          "base_uri": "https://localhost:8080/",
          "height": 34
        },
        "id": "YIMDq9QaUa8Y",
        "outputId": "751f1bdf-8120-4dbd-e9c9-8bd3cd4d1212"
      },
      "execution_count": null,
      "outputs": [
        {
          "output_type": "display_data",
          "data": {
            "text/plain": [
              "[1] Inf"
            ],
            "text/latex": "Inf",
            "text/markdown": "Inf",
            "text/html": [
              "Inf"
            ]
          },
          "metadata": {}
        }
      ]
    },
    {
      "cell_type": "code",
      "source": [
        "4 - Inf"
      ],
      "metadata": {
        "colab": {
          "base_uri": "https://localhost:8080/",
          "height": 34
        },
        "id": "etWK5JIJUkvD",
        "outputId": "3452f839-0a5f-4850-ae66-8e6951501acb"
      },
      "execution_count": null,
      "outputs": [
        {
          "output_type": "display_data",
          "data": {
            "text/plain": [
              "[1] -Inf"
            ],
            "text/latex": "-Inf",
            "text/markdown": "-Inf",
            "text/html": [
              "-Inf"
            ]
          },
          "metadata": {}
        }
      ]
    },
    {
      "cell_type": "code",
      "source": [
        "is.finite(10^(305:310))"
      ],
      "metadata": {
        "colab": {
          "base_uri": "https://localhost:8080/",
          "height": 34
        },
        "id": "ScP8N5COUp08",
        "outputId": "02807025-6d16-4b99-cfe1-b374443381a2"
      },
      "execution_count": null,
      "outputs": [
        {
          "output_type": "display_data",
          "data": {
            "text/plain": [
              "[1]  TRUE  TRUE  TRUE  TRUE FALSE FALSE"
            ],
            "text/latex": "\\begin{enumerate*}\n\\item TRUE\n\\item TRUE\n\\item TRUE\n\\item TRUE\n\\item FALSE\n\\item FALSE\n\\end{enumerate*}\n",
            "text/markdown": "1. TRUE\n2. TRUE\n3. TRUE\n4. TRUE\n5. FALSE\n6. FALSE\n\n\n",
            "text/html": [
              "<style>\n",
              ".list-inline {list-style: none; margin:0; padding: 0}\n",
              ".list-inline>li {display: inline-block}\n",
              ".list-inline>li:not(:last-child)::after {content: \"\\00b7\"; padding: 0 .5ex}\n",
              "</style>\n",
              "<ol class=list-inline><li>TRUE</li><li>TRUE</li><li>TRUE</li><li>TRUE</li><li>FALSE</li><li>FALSE</li></ol>\n"
            ]
          },
          "metadata": {}
        }
      ]
    },
    {
      "cell_type": "code",
      "source": [
        "1.7 * 10^308;   1.8 * 10^308"
      ],
      "metadata": {
        "colab": {
          "base_uri": "https://localhost:8080/",
          "height": 52
        },
        "id": "vlfk_vc7UvBs",
        "outputId": "055a773a-644e-4f35-820c-51a086295967"
      },
      "execution_count": null,
      "outputs": [
        {
          "output_type": "display_data",
          "data": {
            "text/plain": [
              "[1] 1.7e+308"
            ],
            "text/latex": "1.7e+308",
            "text/markdown": "1.7e+308",
            "text/html": [
              "1.7e+308"
            ]
          },
          "metadata": {}
        },
        {
          "output_type": "display_data",
          "data": {
            "text/plain": [
              "[1] Inf"
            ],
            "text/latex": "Inf",
            "text/markdown": "Inf",
            "text/html": [
              "Inf"
            ]
          },
          "metadata": {}
        }
      ]
    },
    {
      "cell_type": "code",
      "source": [
        "Inf / Inf"
      ],
      "metadata": {
        "colab": {
          "base_uri": "https://localhost:8080/",
          "height": 34
        },
        "id": "opqprjHJVKHs",
        "outputId": "6ddb75a6-0813-43e1-e356-ff7b13973730"
      },
      "execution_count": null,
      "outputs": [
        {
          "output_type": "display_data",
          "data": {
            "text/plain": [
              "[1] NaN"
            ],
            "text/latex": "NaN",
            "text/markdown": "NaN",
            "text/html": [
              "NaN"
            ]
          },
          "metadata": {}
        }
      ]
    },
    {
      "cell_type": "code",
      "source": [
        "NaN + 4"
      ],
      "metadata": {
        "colab": {
          "base_uri": "https://localhost:8080/",
          "height": 34
        },
        "id": "qqqwJmWZVgmp",
        "outputId": "58052e40-eaae-49a8-f09b-5b3658735455"
      },
      "execution_count": null,
      "outputs": [
        {
          "output_type": "display_data",
          "data": {
            "text/plain": [
              "[1] NaN"
            ],
            "text/latex": "NaN",
            "text/markdown": "NaN",
            "text/html": [
              "NaN"
            ]
          },
          "metadata": {}
        }
      ]
    },
    {
      "cell_type": "code",
      "source": [
        "x <- NA\n",
        "x + 4\n",
        "log(x)"
      ],
      "metadata": {
        "colab": {
          "base_uri": "https://localhost:8080/",
          "height": 52
        },
        "id": "SB5bH3ZYVjoJ",
        "outputId": "b6a1572a-dc47-43c0-e4c0-6e547874c8ff"
      },
      "execution_count": null,
      "outputs": [
        {
          "output_type": "display_data",
          "data": {
            "text/plain": [
              "[1] NA"
            ],
            "text/latex": "<NA>",
            "text/markdown": "&lt;NA&gt;",
            "text/html": [
              "&lt;NA&gt;"
            ]
          },
          "metadata": {}
        },
        {
          "output_type": "display_data",
          "data": {
            "text/plain": [
              "[1] NA"
            ],
            "text/latex": "<NA>",
            "text/markdown": "&lt;NA&gt;",
            "text/html": [
              "&lt;NA&gt;"
            ]
          },
          "metadata": {}
        }
      ]
    },
    {
      "cell_type": "code",
      "source": [
        "is.na(x)"
      ],
      "metadata": {
        "colab": {
          "base_uri": "https://localhost:8080/",
          "height": 34
        },
        "id": "QIpeTqfPVolq",
        "outputId": "21c9e39f-72e7-4cf0-e8e5-ab2f396f7a8f"
      },
      "execution_count": null,
      "outputs": [
        {
          "output_type": "display_data",
          "data": {
            "text/plain": [
              "[1] TRUE"
            ],
            "text/latex": "TRUE",
            "text/markdown": "TRUE",
            "text/html": [
              "TRUE"
            ]
          },
          "metadata": {}
        }
      ]
    },
    {
      "cell_type": "code",
      "source": [
        "is.finite(1.8 * 10^308);   is.infinite(1.8 * 10^308)"
      ],
      "metadata": {
        "colab": {
          "base_uri": "https://localhost:8080/",
          "height": 52
        },
        "id": "lu4nLGF3V0QE",
        "outputId": "020f4a99-407c-4575-98d5-64562bd709b3"
      },
      "execution_count": null,
      "outputs": [
        {
          "output_type": "display_data",
          "data": {
            "text/plain": [
              "[1] FALSE"
            ],
            "text/latex": "FALSE",
            "text/markdown": "FALSE",
            "text/html": [
              "FALSE"
            ]
          },
          "metadata": {}
        },
        {
          "output_type": "display_data",
          "data": {
            "text/plain": [
              "[1] TRUE"
            ],
            "text/latex": "TRUE",
            "text/markdown": "TRUE",
            "text/html": [
              "TRUE"
            ]
          },
          "metadata": {}
        }
      ]
    },
    {
      "cell_type": "markdown",
      "source": [
        "### Structure of Vector!"
      ],
      "metadata": {
        "id": "sgYRkByjorU4"
      }
    },
    {
      "cell_type": "code",
      "source": [
        "str(baskets.of.Granny)"
      ],
      "metadata": {
        "colab": {
          "base_uri": "https://localhost:8080/"
        },
        "id": "kG4fZcrbV9UE",
        "outputId": "a1d2d1c9-15d4-4403-b8d0-6a4ae51e329e"
      },
      "execution_count": null,
      "outputs": [
        {
          "output_type": "stream",
          "name": "stdout",
          "text": [
            " num [1:6] 12 4 4 6 9 3\n"
          ]
        }
      ]
    },
    {
      "cell_type": "code",
      "source": [
        "length(baskets.of.Granny)"
      ],
      "metadata": {
        "colab": {
          "base_uri": "https://localhost:8080/",
          "height": 34
        },
        "id": "4WaKzJFxXkwu",
        "outputId": "94e4f956-d2ef-474b-ff98-d39615aceeb7"
      },
      "execution_count": null,
      "outputs": [
        {
          "output_type": "display_data",
          "data": {
            "text/plain": [
              "[1] 6"
            ],
            "text/latex": "6",
            "text/markdown": "6",
            "text/html": [
              "6"
            ]
          },
          "metadata": {}
        }
      ]
    },
    {
      "cell_type": "code",
      "source": [
        "authors <- c(\"Andrie\", \"Joris\")\n",
        "str(authors)"
      ],
      "metadata": {
        "colab": {
          "base_uri": "https://localhost:8080/"
        },
        "id": "0OXkGJK_XpWd",
        "outputId": "244bc47d-71bf-4aa4-c3f8-86b99a75bef2"
      },
      "execution_count": null,
      "outputs": [
        {
          "output_type": "stream",
          "name": "stdout",
          "text": [
            " chr [1:2] \"Andrie\" \"Joris\"\n"
          ]
        }
      ]
    },
    {
      "cell_type": "code",
      "source": [
        "is.numeric(baskets.of.Granny);        is.integer(baskets.of.Granny) "
      ],
      "metadata": {
        "colab": {
          "base_uri": "https://localhost:8080/",
          "height": 52
        },
        "id": "NSghmxDNXyL3",
        "outputId": "bb32ae9e-5424-4e07-aa2a-c8bdcd8754bf"
      },
      "execution_count": null,
      "outputs": [
        {
          "output_type": "display_data",
          "data": {
            "text/plain": [
              "[1] TRUE"
            ],
            "text/latex": "TRUE",
            "text/markdown": "TRUE",
            "text/html": [
              "TRUE"
            ]
          },
          "metadata": {}
        },
        {
          "output_type": "display_data",
          "data": {
            "text/plain": [
              "[1] FALSE"
            ],
            "text/latex": "FALSE",
            "text/markdown": "FALSE",
            "text/html": [
              "FALSE"
            ]
          },
          "metadata": {}
        }
      ]
    },
    {
      "cell_type": "code",
      "source": [
        " x <- c(4L, 6L)\n",
        " is.integer(x)"
      ],
      "metadata": {
        "colab": {
          "base_uri": "https://localhost:8080/",
          "height": 34
        },
        "id": "y417xeeBYJ2w",
        "outputId": "aceec253-4652-4bce-d778-c4cda0ef4b5c"
      },
      "execution_count": null,
      "outputs": [
        {
          "output_type": "display_data",
          "data": {
            "text/plain": [
              "[1] TRUE"
            ],
            "text/latex": "TRUE",
            "text/markdown": "TRUE",
            "text/html": [
              "TRUE"
            ]
          },
          "metadata": {}
        }
      ]
    },
    {
      "cell_type": "markdown",
      "source": [
        "### Creating and Combining Vectors!"
      ],
      "metadata": {
        "id": "FYVzoMamo5qZ"
      }
    },
    {
      "cell_type": "code",
      "source": [
        "seq(from = 4.5, to = 2.5, by = -0.5)"
      ],
      "metadata": {
        "colab": {
          "base_uri": "https://localhost:8080/",
          "height": 34
        },
        "id": "U-fW0cw_YT80",
        "outputId": "c338c48b-94d2-48e3-ca1b-82371d6a538f"
      },
      "execution_count": null,
      "outputs": [
        {
          "output_type": "display_data",
          "data": {
            "text/plain": [
              "[1] 4.5 4.0 3.5 3.0 2.5"
            ],
            "text/latex": "\\begin{enumerate*}\n\\item 4.5\n\\item 4\n\\item 3.5\n\\item 3\n\\item 2.5\n\\end{enumerate*}\n",
            "text/markdown": "1. 4.5\n2. 4\n3. 3.5\n4. 3\n5. 2.5\n\n\n",
            "text/html": [
              "<style>\n",
              ".list-inline {list-style: none; margin:0; padding: 0}\n",
              ".list-inline>li {display: inline-block}\n",
              ".list-inline>li:not(:last-child)::after {content: \"\\00b7\"; padding: 0 .5ex}\n",
              "</style>\n",
              "<ol class=list-inline><li>4.5</li><li>4</li><li>3.5</li><li>3</li><li>2.5</li></ol>\n"
            ]
          },
          "metadata": {}
        }
      ]
    },
    {
      "cell_type": "code",
      "source": [
        "c(5:2, 0.5)"
      ],
      "metadata": {
        "colab": {
          "base_uri": "https://localhost:8080/",
          "height": 34
        },
        "id": "lvPZZ0VUYg9F",
        "outputId": "cf07e790-f0e1-4cba-9309-1366b3bee306"
      },
      "execution_count": null,
      "outputs": [
        {
          "output_type": "display_data",
          "data": {
            "text/plain": [
              "[1] 5.0 4.0 3.0 2.0 0.5"
            ],
            "text/latex": "\\begin{enumerate*}\n\\item 5\n\\item 4\n\\item 3\n\\item 2\n\\item 0.5\n\\end{enumerate*}\n",
            "text/markdown": "1. 5\n2. 4\n3. 3\n4. 2\n5. 0.5\n\n\n",
            "text/html": [
              "<style>\n",
              ".list-inline {list-style: none; margin:0; padding: 0}\n",
              ".list-inline>li {display: inline-block}\n",
              ".list-inline>li:not(:last-child)::after {content: \"\\00b7\"; padding: 0 .5ex}\n",
              "</style>\n",
              "<ol class=list-inline><li>5</li><li>4</li><li>3</li><li>2</li><li>0.5</li></ol>\n"
            ]
          },
          "metadata": {}
        }
      ]
    },
    {
      "cell_type": "code",
      "source": [
        "baskets.of.Granny <- c(12, 4, 4, 6, 9, 3)\n",
        "baskets.of.Geraldine <- c(5, 3, 2, 2, 12, 9)\n",
        "all.baskets <-c(baskets.of.Granny, baskets.of.Geraldine)\n",
        "all.baskets"
      ],
      "metadata": {
        "colab": {
          "base_uri": "https://localhost:8080/",
          "height": 34
        },
        "id": "mrYlqzbDYlyf",
        "outputId": "b887c292-4f98-4e49-8731-7dab92bf5d54"
      },
      "execution_count": null,
      "outputs": [
        {
          "output_type": "display_data",
          "data": {
            "text/plain": [
              " [1] 12  4  4  6  9  3  5  3  2  2 12  9"
            ],
            "text/latex": "\\begin{enumerate*}\n\\item 12\n\\item 4\n\\item 4\n\\item 6\n\\item 9\n\\item 3\n\\item 5\n\\item 3\n\\item 2\n\\item 2\n\\item 12\n\\item 9\n\\end{enumerate*}\n",
            "text/markdown": "1. 12\n2. 4\n3. 4\n4. 6\n5. 9\n6. 3\n7. 5\n8. 3\n9. 2\n10. 2\n11. 12\n12. 9\n\n\n",
            "text/html": [
              "<style>\n",
              ".list-inline {list-style: none; margin:0; padding: 0}\n",
              ".list-inline>li {display: inline-block}\n",
              ".list-inline>li:not(:last-child)::after {content: \"\\00b7\"; padding: 0 .5ex}\n",
              "</style>\n",
              "<ol class=list-inline><li>12</li><li>4</li><li>4</li><li>6</li><li>9</li><li>3</li><li>5</li><li>3</li><li>2</li><li>2</li><li>12</li><li>9</li></ol>\n"
            ]
          },
          "metadata": {}
        }
      ]
    },
    {
      "cell_type": "markdown",
      "source": [
        "### Repeating Vectors!"
      ],
      "metadata": {
        "id": "vlLEzHTppLjI"
      }
    },
    {
      "cell_type": "code",
      "source": [
        "rep(c(0, 0, 7), times = 3)"
      ],
      "metadata": {
        "colab": {
          "base_uri": "https://localhost:8080/",
          "height": 34
        },
        "id": "BXlA-RmbZGuP",
        "outputId": "9d1bebf2-b9f5-4e2c-bc55-084402ada0b7"
      },
      "execution_count": null,
      "outputs": [
        {
          "output_type": "display_data",
          "data": {
            "text/plain": [
              "[1] 0 0 7 0 0 7 0 0 7"
            ],
            "text/latex": "\\begin{enumerate*}\n\\item 0\n\\item 0\n\\item 7\n\\item 0\n\\item 0\n\\item 7\n\\item 0\n\\item 0\n\\item 7\n\\end{enumerate*}\n",
            "text/markdown": "1. 0\n2. 0\n3. 7\n4. 0\n5. 0\n6. 7\n7. 0\n8. 0\n9. 7\n\n\n",
            "text/html": [
              "<style>\n",
              ".list-inline {list-style: none; margin:0; padding: 0}\n",
              ".list-inline>li {display: inline-block}\n",
              ".list-inline>li:not(:last-child)::after {content: \"\\00b7\"; padding: 0 .5ex}\n",
              "</style>\n",
              "<ol class=list-inline><li>0</li><li>0</li><li>7</li><li>0</li><li>0</li><li>7</li><li>0</li><li>0</li><li>7</li></ol>\n"
            ]
          },
          "metadata": {}
        }
      ]
    },
    {
      "cell_type": "code",
      "source": [
        "rep(c(0, 7), times = c(4, 2))"
      ],
      "metadata": {
        "colab": {
          "base_uri": "https://localhost:8080/",
          "height": 34
        },
        "id": "lvoHp9ZvZSai",
        "outputId": "d50a8ed8-de11-47e9-e119-a37f5b10ad4a"
      },
      "execution_count": null,
      "outputs": [
        {
          "output_type": "display_data",
          "data": {
            "text/plain": [
              "[1] 0 0 0 0 7 7"
            ],
            "text/latex": "\\begin{enumerate*}\n\\item 0\n\\item 0\n\\item 0\n\\item 0\n\\item 7\n\\item 7\n\\end{enumerate*}\n",
            "text/markdown": "1. 0\n2. 0\n3. 0\n4. 0\n5. 7\n6. 7\n\n\n",
            "text/html": [
              "<style>\n",
              ".list-inline {list-style: none; margin:0; padding: 0}\n",
              ".list-inline>li {display: inline-block}\n",
              ".list-inline>li:not(:last-child)::after {content: \"\\00b7\"; padding: 0 .5ex}\n",
              "</style>\n",
              "<ol class=list-inline><li>0</li><li>0</li><li>0</li><li>0</li><li>7</li><li>7</li></ol>\n"
            ]
          },
          "metadata": {}
        }
      ]
    },
    {
      "cell_type": "code",
      "source": [
        "rep(1:3, length.out = 7)"
      ],
      "metadata": {
        "colab": {
          "base_uri": "https://localhost:8080/",
          "height": 34
        },
        "id": "mDHFKOOxZYqz",
        "outputId": "6e8b7c73-0652-4874-bc8c-41408e31ec03"
      },
      "execution_count": null,
      "outputs": [
        {
          "output_type": "display_data",
          "data": {
            "text/plain": [
              "[1] 1 2 3 1 2 3 1"
            ],
            "text/latex": "\\begin{enumerate*}\n\\item 1\n\\item 2\n\\item 3\n\\item 1\n\\item 2\n\\item 3\n\\item 1\n\\end{enumerate*}\n",
            "text/markdown": "1. 1\n2. 2\n3. 3\n4. 1\n5. 2\n6. 3\n7. 1\n\n\n",
            "text/html": [
              "<style>\n",
              ".list-inline {list-style: none; margin:0; padding: 0}\n",
              ".list-inline>li {display: inline-block}\n",
              ".list-inline>li:not(:last-child)::after {content: \"\\00b7\"; padding: 0 .5ex}\n",
              "</style>\n",
              "<ol class=list-inline><li>1</li><li>2</li><li>3</li><li>1</li><li>2</li><li>3</li><li>1</li></ol>\n"
            ]
          },
          "metadata": {}
        }
      ]
    },
    {
      "cell_type": "markdown",
      "source": [
        "### Indexing Vectors!"
      ],
      "metadata": {
        "id": "V9bPqZPTpU8G"
      }
    },
    {
      "cell_type": "code",
      "source": [
        "numbers <- 30:1\n",
        "numbers"
      ],
      "metadata": {
        "colab": {
          "base_uri": "https://localhost:8080/",
          "height": 34
        },
        "id": "taz3NqqNZfpa",
        "outputId": "eba263ad-011e-4a78-a245-6700985779fb"
      },
      "execution_count": null,
      "outputs": [
        {
          "output_type": "display_data",
          "data": {
            "text/plain": [
              " [1] 30 29 28 27 26 25 24 23 22 21 20 19 18 17 16 15 14 13 12 11 10  9  8  7  6\n",
              "[26]  5  4  3  2  1"
            ],
            "text/latex": "\\begin{enumerate*}\n\\item 30\n\\item 29\n\\item 28\n\\item 27\n\\item 26\n\\item 25\n\\item 24\n\\item 23\n\\item 22\n\\item 21\n\\item 20\n\\item 19\n\\item 18\n\\item 17\n\\item 16\n\\item 15\n\\item 14\n\\item 13\n\\item 12\n\\item 11\n\\item 10\n\\item 9\n\\item 8\n\\item 7\n\\item 6\n\\item 5\n\\item 4\n\\item 3\n\\item 2\n\\item 1\n\\end{enumerate*}\n",
            "text/markdown": "1. 30\n2. 29\n3. 28\n4. 27\n5. 26\n6. 25\n7. 24\n8. 23\n9. 22\n10. 21\n11. 20\n12. 19\n13. 18\n14. 17\n15. 16\n16. 15\n17. 14\n18. 13\n19. 12\n20. 11\n21. 10\n22. 9\n23. 8\n24. 7\n25. 6\n26. 5\n27. 4\n28. 3\n29. 2\n30. 1\n\n\n",
            "text/html": [
              "<style>\n",
              ".list-inline {list-style: none; margin:0; padding: 0}\n",
              ".list-inline>li {display: inline-block}\n",
              ".list-inline>li:not(:last-child)::after {content: \"\\00b7\"; padding: 0 .5ex}\n",
              "</style>\n",
              "<ol class=list-inline><li>30</li><li>29</li><li>28</li><li>27</li><li>26</li><li>25</li><li>24</li><li>23</li><li>22</li><li>21</li><li>20</li><li>19</li><li>18</li><li>17</li><li>16</li><li>15</li><li>14</li><li>13</li><li>12</li><li>11</li><li>10</li><li>9</li><li>8</li><li>7</li><li>6</li><li>5</li><li>4</li><li>3</li><li>2</li><li>1</li></ol>\n"
            ]
          },
          "metadata": {}
        }
      ]
    },
    {
      "cell_type": "code",
      "source": [
        "numbers[5]"
      ],
      "metadata": {
        "colab": {
          "base_uri": "https://localhost:8080/",
          "height": 34
        },
        "id": "7025PJXZZmWh",
        "outputId": "eb1e30b0-0ab7-4582-ec9b-162e44b7b9a1"
      },
      "execution_count": null,
      "outputs": [
        {
          "output_type": "display_data",
          "data": {
            "text/plain": [
              "[1] 26"
            ],
            "text/latex": "26",
            "text/markdown": "26",
            "text/html": [
              "26"
            ]
          },
          "metadata": {}
        }
      ]
    },
    {
      "cell_type": "code",
      "source": [
        "numbers[c(5, 11, 3)]"
      ],
      "metadata": {
        "colab": {
          "base_uri": "https://localhost:8080/",
          "height": 34
        },
        "id": "SMXo5zPjZvQZ",
        "outputId": "2f44d7fe-9b4f-4abd-e752-bbb00e3363a8"
      },
      "execution_count": null,
      "outputs": [
        {
          "output_type": "display_data",
          "data": {
            "text/plain": [
              "[1] 26 20 28"
            ],
            "text/latex": "\\begin{enumerate*}\n\\item 26\n\\item 20\n\\item 28\n\\end{enumerate*}\n",
            "text/markdown": "1. 26\n2. 20\n3. 28\n\n\n",
            "text/html": [
              "<style>\n",
              ".list-inline {list-style: none; margin:0; padding: 0}\n",
              ".list-inline>li {display: inline-block}\n",
              ".list-inline>li:not(:last-child)::after {content: \"\\00b7\"; padding: 0 .5ex}\n",
              "</style>\n",
              "<ol class=list-inline><li>26</li><li>20</li><li>28</li></ol>\n"
            ]
          },
          "metadata": {}
        }
      ]
    },
    {
      "cell_type": "code",
      "source": [
        "indices <- c(5, 11, 3)\n",
        "numbers[indices]"
      ],
      "metadata": {
        "colab": {
          "base_uri": "https://localhost:8080/",
          "height": 34
        },
        "id": "4M87u04raFVH",
        "outputId": "cfdadbff-3aa5-44e0-b645-f2575e7984c3"
      },
      "execution_count": null,
      "outputs": [
        {
          "output_type": "display_data",
          "data": {
            "text/plain": [
              "[1] 26 20 28"
            ],
            "text/latex": "\\begin{enumerate*}\n\\item 26\n\\item 20\n\\item 28\n\\end{enumerate*}\n",
            "text/markdown": "1. 26\n2. 20\n3. 28\n\n\n",
            "text/html": [
              "<style>\n",
              ".list-inline {list-style: none; margin:0; padding: 0}\n",
              ".list-inline>li {display: inline-block}\n",
              ".list-inline>li:not(:last-child)::after {content: \"\\00b7\"; padding: 0 .5ex}\n",
              "</style>\n",
              "<ol class=list-inline><li>26</li><li>20</li><li>28</li></ol>\n"
            ]
          },
          "metadata": {}
        }
      ]
    },
    {
      "cell_type": "code",
      "source": [
        "numbers[-3]"
      ],
      "metadata": {
        "colab": {
          "base_uri": "https://localhost:8080/",
          "height": 34
        },
        "id": "OZZSs3ElaMxY",
        "outputId": "62f0a9e1-889b-48e9-abe2-da9054168461"
      },
      "execution_count": null,
      "outputs": [
        {
          "output_type": "display_data",
          "data": {
            "text/plain": [
              " [1] 30 29 27 26 25 24 23 22 21 20 19 18 17 16 15 14 13 12 11 10  9  8  7  6  5\n",
              "[26]  4  3  2  1"
            ],
            "text/latex": "\\begin{enumerate*}\n\\item 30\n\\item 29\n\\item 27\n\\item 26\n\\item 25\n\\item 24\n\\item 23\n\\item 22\n\\item 21\n\\item 20\n\\item 19\n\\item 18\n\\item 17\n\\item 16\n\\item 15\n\\item 14\n\\item 13\n\\item 12\n\\item 11\n\\item 10\n\\item 9\n\\item 8\n\\item 7\n\\item 6\n\\item 5\n\\item 4\n\\item 3\n\\item 2\n\\item 1\n\\end{enumerate*}\n",
            "text/markdown": "1. 30\n2. 29\n3. 27\n4. 26\n5. 25\n6. 24\n7. 23\n8. 22\n9. 21\n10. 20\n11. 19\n12. 18\n13. 17\n14. 16\n15. 15\n16. 14\n17. 13\n18. 12\n19. 11\n20. 10\n21. 9\n22. 8\n23. 7\n24. 6\n25. 5\n26. 4\n27. 3\n28. 2\n29. 1\n\n\n",
            "text/html": [
              "<style>\n",
              ".list-inline {list-style: none; margin:0; padding: 0}\n",
              ".list-inline>li {display: inline-block}\n",
              ".list-inline>li:not(:last-child)::after {content: \"\\00b7\"; padding: 0 .5ex}\n",
              "</style>\n",
              "<ol class=list-inline><li>30</li><li>29</li><li>27</li><li>26</li><li>25</li><li>24</li><li>23</li><li>22</li><li>21</li><li>20</li><li>19</li><li>18</li><li>17</li><li>16</li><li>15</li><li>14</li><li>13</li><li>12</li><li>11</li><li>10</li><li>9</li><li>8</li><li>7</li><li>6</li><li>5</li><li>4</li><li>3</li><li>2</li><li>1</li></ol>\n"
            ]
          },
          "metadata": {}
        }
      ]
    },
    {
      "cell_type": "code",
      "source": [
        "numbers[-(1:20)]"
      ],
      "metadata": {
        "colab": {
          "base_uri": "https://localhost:8080/",
          "height": 34
        },
        "id": "Iw2YIk5gaRGo",
        "outputId": "6d71eec1-32ce-4381-de9d-9be9fe7dcd91"
      },
      "execution_count": null,
      "outputs": [
        {
          "output_type": "display_data",
          "data": {
            "text/plain": [
              " [1] 10  9  8  7  6  5  4  3  2  1"
            ],
            "text/latex": "\\begin{enumerate*}\n\\item 10\n\\item 9\n\\item 8\n\\item 7\n\\item 6\n\\item 5\n\\item 4\n\\item 3\n\\item 2\n\\item 1\n\\end{enumerate*}\n",
            "text/markdown": "1. 10\n2. 9\n3. 8\n4. 7\n5. 6\n6. 5\n7. 4\n8. 3\n9. 2\n10. 1\n\n\n",
            "text/html": [
              "<style>\n",
              ".list-inline {list-style: none; margin:0; padding: 0}\n",
              ".list-inline>li {display: inline-block}\n",
              ".list-inline>li:not(:last-child)::after {content: \"\\00b7\"; padding: 0 .5ex}\n",
              "</style>\n",
              "<ol class=list-inline><li>10</li><li>9</li><li>8</li><li>7</li><li>6</li><li>5</li><li>4</li><li>3</li><li>2</li><li>1</li></ol>\n"
            ]
          },
          "metadata": {}
        }
      ]
    },
    {
      "cell_type": "markdown",
      "source": [
        "### Changing values in vectors!"
      ],
      "metadata": {
        "id": "hz3wNOZ_pfAe"
      }
    },
    {
      "cell_type": "code",
      "source": [
        "baskets.of.Granny[3] <- 5\n",
        "baskets.of.Granny"
      ],
      "metadata": {
        "colab": {
          "base_uri": "https://localhost:8080/",
          "height": 34
        },
        "id": "qr8XPKQhaiYw",
        "outputId": "2e924200-b6a4-4b06-cb4d-8498a93fc29f"
      },
      "execution_count": null,
      "outputs": [
        {
          "output_type": "display_data",
          "data": {
            "text/plain": [
              "[1] 12  4  5  6  9  3"
            ],
            "text/latex": "\\begin{enumerate*}\n\\item 12\n\\item 4\n\\item 5\n\\item 6\n\\item 9\n\\item 3\n\\end{enumerate*}\n",
            "text/markdown": "1. 12\n2. 4\n3. 5\n4. 6\n5. 9\n6. 3\n\n\n",
            "text/html": [
              "<style>\n",
              ".list-inline {list-style: none; margin:0; padding: 0}\n",
              ".list-inline>li {display: inline-block}\n",
              ".list-inline>li:not(:last-child)::after {content: \"\\00b7\"; padding: 0 .5ex}\n",
              "</style>\n",
              "<ol class=list-inline><li>12</li><li>4</li><li>5</li><li>6</li><li>9</li><li>3</li></ol>\n"
            ]
          },
          "metadata": {}
        }
      ]
    },
    {
      "cell_type": "code",
      "source": [
        "baskets.of.Geraldine[c(2, 4)] <- 4\n",
        "baskets.of.Geraldine"
      ],
      "metadata": {
        "colab": {
          "base_uri": "https://localhost:8080/",
          "height": 34
        },
        "id": "-5JRbX7-a02i",
        "outputId": "b2cd420f-3091-452d-e0bd-b45be359d4ef"
      },
      "execution_count": null,
      "outputs": [
        {
          "output_type": "display_data",
          "data": {
            "text/plain": [
              "[1]  5  4  2  4 12  9"
            ],
            "text/latex": "\\begin{enumerate*}\n\\item 5\n\\item 4\n\\item 2\n\\item 4\n\\item 12\n\\item 9\n\\end{enumerate*}\n",
            "text/markdown": "1. 5\n2. 4\n3. 2\n4. 4\n5. 12\n6. 9\n\n\n",
            "text/html": [
              "<style>\n",
              ".list-inline {list-style: none; margin:0; padding: 0}\n",
              ".list-inline>li {display: inline-block}\n",
              ".list-inline>li:not(:last-child)::after {content: \"\\00b7\"; padding: 0 .5ex}\n",
              "</style>\n",
              "<ol class=list-inline><li>5</li><li>4</li><li>2</li><li>4</li><li>12</li><li>9</li></ol>\n"
            ]
          },
          "metadata": {}
        }
      ]
    },
    {
      "cell_type": "code",
      "source": [
        " Granny.copy <- baskets.of.Granny"
      ],
      "metadata": {
        "id": "XVYtJhZpa5rR"
      },
      "execution_count": null,
      "outputs": []
    },
    {
      "cell_type": "code",
      "source": [
        "baskets.of.Granny[4] <- 11\n",
        "baskets.of.Granny"
      ],
      "metadata": {
        "colab": {
          "base_uri": "https://localhost:8080/",
          "height": 34
        },
        "id": "IN8RE59zbASA",
        "outputId": "ec16c487-274a-4919-f579-21a282552ed1"
      },
      "execution_count": null,
      "outputs": [
        {
          "output_type": "display_data",
          "data": {
            "text/plain": [
              "[1] 12  4  5 11  9  3"
            ],
            "text/latex": "\\begin{enumerate*}\n\\item 12\n\\item 4\n\\item 5\n\\item 11\n\\item 9\n\\item 3\n\\end{enumerate*}\n",
            "text/markdown": "1. 12\n2. 4\n3. 5\n4. 11\n5. 9\n6. 3\n\n\n",
            "text/html": [
              "<style>\n",
              ".list-inline {list-style: none; margin:0; padding: 0}\n",
              ".list-inline>li {display: inline-block}\n",
              ".list-inline>li:not(:last-child)::after {content: \"\\00b7\"; padding: 0 .5ex}\n",
              "</style>\n",
              "<ol class=list-inline><li>12</li><li>4</li><li>5</li><li>11</li><li>9</li><li>3</li></ol>\n"
            ]
          },
          "metadata": {}
        }
      ]
    },
    {
      "cell_type": "code",
      "source": [
        "baskets.of.Granny <- Granny.copy\n",
        "baskets.of.Granny"
      ],
      "metadata": {
        "colab": {
          "base_uri": "https://localhost:8080/",
          "height": 34
        },
        "id": "HcvR89wTbGiC",
        "outputId": "e0f3df22-351a-49c8-af01-a4af9c158a8c"
      },
      "execution_count": null,
      "outputs": [
        {
          "output_type": "display_data",
          "data": {
            "text/plain": [
              "[1] 12  4  5  6  9  3"
            ],
            "text/latex": "\\begin{enumerate*}\n\\item 12\n\\item 4\n\\item 5\n\\item 6\n\\item 9\n\\item 3\n\\end{enumerate*}\n",
            "text/markdown": "1. 12\n2. 4\n3. 5\n4. 6\n5. 9\n6. 3\n\n\n",
            "text/html": [
              "<style>\n",
              ".list-inline {list-style: none; margin:0; padding: 0}\n",
              ".list-inline>li {display: inline-block}\n",
              ".list-inline>li:not(:last-child)::after {content: \"\\00b7\"; padding: 0 .5ex}\n",
              "</style>\n",
              "<ol class=list-inline><li>12</li><li>4</li><li>5</li><li>6</li><li>9</li><li>3</li></ol>\n"
            ]
          },
          "metadata": {}
        }
      ]
    },
    {
      "cell_type": "markdown",
      "source": [
        "### Logical Vectors!"
      ],
      "metadata": {
        "id": "Apeln2G-pq_e"
      }
    },
    {
      "cell_type": "code",
      "source": [
        "baskets.of.Granny > 5"
      ],
      "metadata": {
        "colab": {
          "base_uri": "https://localhost:8080/",
          "height": 34
        },
        "id": "YNDB6LPtbK-z",
        "outputId": "f53a7f67-9117-4e06-9a10-ee6105489819"
      },
      "execution_count": null,
      "outputs": [
        {
          "output_type": "display_data",
          "data": {
            "text/plain": [
              "[1]  TRUE FALSE FALSE  TRUE  TRUE FALSE"
            ],
            "text/latex": "\\begin{enumerate*}\n\\item TRUE\n\\item FALSE\n\\item FALSE\n\\item TRUE\n\\item TRUE\n\\item FALSE\n\\end{enumerate*}\n",
            "text/markdown": "1. TRUE\n2. FALSE\n3. FALSE\n4. TRUE\n5. TRUE\n6. FALSE\n\n\n",
            "text/html": [
              "<style>\n",
              ".list-inline {list-style: none; margin:0; padding: 0}\n",
              ".list-inline>li {display: inline-block}\n",
              ".list-inline>li:not(:last-child)::after {content: \"\\00b7\"; padding: 0 .5ex}\n",
              "</style>\n",
              "<ol class=list-inline><li>TRUE</li><li>FALSE</li><li>FALSE</li><li>TRUE</li><li>TRUE</li><li>FALSE</li></ol>\n"
            ]
          },
          "metadata": {}
        }
      ]
    },
    {
      "cell_type": "code",
      "source": [
        "which(baskets.of.Granny > 5)"
      ],
      "metadata": {
        "colab": {
          "base_uri": "https://localhost:8080/",
          "height": 34
        },
        "id": "FYfbj1GNbTj1",
        "outputId": "517cb170-ca7d-4a77-9b86-010364fcac08"
      },
      "execution_count": null,
      "outputs": [
        {
          "output_type": "display_data",
          "data": {
            "text/plain": [
              "[1] 1 4 5"
            ],
            "text/latex": "\\begin{enumerate*}\n\\item 1\n\\item 4\n\\item 5\n\\end{enumerate*}\n",
            "text/markdown": "1. 1\n2. 4\n3. 5\n\n\n",
            "text/html": [
              "<style>\n",
              ".list-inline {list-style: none; margin:0; padding: 0}\n",
              ".list-inline>li {display: inline-block}\n",
              ".list-inline>li:not(:last-child)::after {content: \"\\00b7\"; padding: 0 .5ex}\n",
              "</style>\n",
              "<ol class=list-inline><li>1</li><li>4</li><li>5</li></ol>\n"
            ]
          },
          "metadata": {}
        }
      ]
    },
    {
      "cell_type": "markdown",
      "source": [
        "### Logical Vectors as Indices!"
      ],
      "metadata": {
        "id": "Qqiq702Xp1RW"
      }
    },
    {
      "cell_type": "code",
      "source": [
        "the.best <- baskets.of.Geraldine < baskets.of.Granny\n",
        "which(the.best)"
      ],
      "metadata": {
        "colab": {
          "base_uri": "https://localhost:8080/",
          "height": 34
        },
        "id": "8nnIHsL7bYV9",
        "outputId": "eab1922a-412c-427a-c649-d8d9dfacdf2b"
      },
      "execution_count": null,
      "outputs": [
        {
          "output_type": "display_data",
          "data": {
            "text/plain": [
              "[1] 1 3 4"
            ],
            "text/latex": "\\begin{enumerate*}\n\\item 1\n\\item 3\n\\item 4\n\\end{enumerate*}\n",
            "text/markdown": "1. 1\n2. 3\n3. 4\n\n\n",
            "text/html": [
              "<style>\n",
              ".list-inline {list-style: none; margin:0; padding: 0}\n",
              ".list-inline>li {display: inline-block}\n",
              ".list-inline>li:not(:last-child)::after {content: \"\\00b7\"; padding: 0 .5ex}\n",
              "</style>\n",
              "<ol class=list-inline><li>1</li><li>3</li><li>4</li></ol>\n"
            ]
          },
          "metadata": {}
        }
      ]
    },
    {
      "cell_type": "code",
      "source": [
        "baskets.of.Granny[the.best]"
      ],
      "metadata": {
        "colab": {
          "base_uri": "https://localhost:8080/",
          "height": 34
        },
        "id": "cETNhXRDbq8D",
        "outputId": "4d3f36c8-c583-42db-cb44-aa5f9eb54d68"
      },
      "execution_count": null,
      "outputs": [
        {
          "output_type": "display_data",
          "data": {
            "text/plain": [
              "[1] 12  5  6"
            ],
            "text/latex": "\\begin{enumerate*}\n\\item 12\n\\item 5\n\\item 6\n\\end{enumerate*}\n",
            "text/markdown": "1. 12\n2. 5\n3. 6\n\n\n",
            "text/html": [
              "<style>\n",
              ".list-inline {list-style: none; margin:0; padding: 0}\n",
              ".list-inline>li {display: inline-block}\n",
              ".list-inline>li:not(:last-child)::after {content: \"\\00b7\"; padding: 0 .5ex}\n",
              "</style>\n",
              "<ol class=list-inline><li>12</li><li>5</li><li>6</li></ol>\n"
            ]
          },
          "metadata": {}
        }
      ]
    },
    {
      "cell_type": "code",
      "source": [
        "x <- c(3, 6, 1, NA, 2)\n",
        "x[x > 2]"
      ],
      "metadata": {
        "colab": {
          "base_uri": "https://localhost:8080/",
          "height": 34
        },
        "id": "Ias7g6jdb3lx",
        "outputId": "0c2f5bcb-e6f1-43b0-b467-d58a6b035335"
      },
      "execution_count": null,
      "outputs": [
        {
          "output_type": "display_data",
          "data": {
            "text/plain": [
              "[1]  3  6 NA"
            ],
            "text/latex": "\\begin{enumerate*}\n\\item 3\n\\item 6\n\\item <NA>\n\\end{enumerate*}\n",
            "text/markdown": "1. 3\n2. 6\n3. &lt;NA&gt;\n\n\n",
            "text/html": [
              "<style>\n",
              ".list-inline {list-style: none; margin:0; padding: 0}\n",
              ".list-inline>li {display: inline-block}\n",
              ".list-inline>li:not(:last-child)::after {content: \"\\00b7\"; padding: 0 .5ex}\n",
              "</style>\n",
              "<ol class=list-inline><li>3</li><li>6</li><li>&lt;NA&gt;</li></ol>\n"
            ]
          },
          "metadata": {}
        }
      ]
    },
    {
      "cell_type": "code",
      "source": [
        "x > 2"
      ],
      "metadata": {
        "colab": {
          "base_uri": "https://localhost:8080/",
          "height": 34
        },
        "id": "akEYKD_VcB4l",
        "outputId": "7887a7bb-e041-43bf-d670-85082cd96a4d"
      },
      "execution_count": null,
      "outputs": [
        {
          "output_type": "display_data",
          "data": {
            "text/plain": [
              "[1]  TRUE  TRUE FALSE    NA FALSE"
            ],
            "text/latex": "\\begin{enumerate*}\n\\item TRUE\n\\item TRUE\n\\item FALSE\n\\item <NA>\n\\item FALSE\n\\end{enumerate*}\n",
            "text/markdown": "1. TRUE\n2. TRUE\n3. FALSE\n4. &lt;NA&gt;\n5. FALSE\n\n\n",
            "text/html": [
              "<style>\n",
              ".list-inline {list-style: none; margin:0; padding: 0}\n",
              ".list-inline>li {display: inline-block}\n",
              ".list-inline>li:not(:last-child)::after {content: \"\\00b7\"; padding: 0 .5ex}\n",
              "</style>\n",
              "<ol class=list-inline><li>TRUE</li><li>TRUE</li><li>FALSE</li><li>&lt;NA&gt;</li><li>FALSE</li></ol>\n"
            ]
          },
          "metadata": {}
        }
      ]
    },
    {
      "cell_type": "markdown",
      "source": [
        "### Combining Logical Vectors!"
      ],
      "metadata": {
        "id": "iQZKYo9oqDpm"
      }
    },
    {
      "cell_type": "code",
      "source": [
        "min.baskets <- baskets.of.Granny == min(baskets.of.Granny)\n",
        "max.baskets <- baskets.of.Granny == max(baskets.of.Granny)\n",
        "min.baskets | max.basketsany(the.best)"
      ],
      "metadata": {
        "colab": {
          "base_uri": "https://localhost:8080/",
          "height": 34
        },
        "id": "VuD-MpoMcLH-",
        "outputId": "02e71429-e770-4790-82a2-046ed6e7dd13"
      },
      "execution_count": null,
      "outputs": [
        {
          "output_type": "display_data",
          "data": {
            "text/plain": [
              "[1]  TRUE FALSE FALSE FALSE FALSE  TRUE"
            ],
            "text/latex": "\\begin{enumerate*}\n\\item TRUE\n\\item FALSE\n\\item FALSE\n\\item FALSE\n\\item FALSE\n\\item TRUE\n\\end{enumerate*}\n",
            "text/markdown": "1. TRUE\n2. FALSE\n3. FALSE\n4. FALSE\n5. FALSE\n6. TRUE\n\n\n",
            "text/html": [
              "<style>\n",
              ".list-inline {list-style: none; margin:0; padding: 0}\n",
              ".list-inline>li {display: inline-block}\n",
              ".list-inline>li:not(:last-child)::after {content: \"\\00b7\"; padding: 0 .5ex}\n",
              "</style>\n",
              "<ol class=list-inline><li>TRUE</li><li>FALSE</li><li>FALSE</li><li>FALSE</li><li>FALSE</li><li>TRUE</li></ol>\n"
            ]
          },
          "metadata": {}
        }
      ]
    },
    {
      "cell_type": "code",
      "source": [
        "x[!is.na(x)]"
      ],
      "metadata": {
        "colab": {
          "base_uri": "https://localhost:8080/",
          "height": 34
        },
        "id": "yXc_53q9cTri",
        "outputId": "d609b0f5-632f-4536-e65e-0b869aa83ded"
      },
      "execution_count": null,
      "outputs": [
        {
          "output_type": "display_data",
          "data": {
            "text/plain": [
              "[1] 3 6 1 2"
            ],
            "text/latex": "\\begin{enumerate*}\n\\item 3\n\\item 6\n\\item 1\n\\item 2\n\\end{enumerate*}\n",
            "text/markdown": "1. 3\n2. 6\n3. 1\n4. 2\n\n\n",
            "text/html": [
              "<style>\n",
              ".list-inline {list-style: none; margin:0; padding: 0}\n",
              ".list-inline>li {display: inline-block}\n",
              ".list-inline>li:not(:last-child)::after {content: \"\\00b7\"; padding: 0 .5ex}\n",
              "</style>\n",
              "<ol class=list-inline><li>3</li><li>6</li><li>1</li><li>2</li></ol>\n"
            ]
          },
          "metadata": {}
        }
      ]
    },
    {
      "cell_type": "code",
      "source": [
        "x == NA\n",
        "is.na(x)"
      ],
      "metadata": {
        "colab": {
          "base_uri": "https://localhost:8080/",
          "height": 52
        },
        "id": "hTZ4zhX0cwGQ",
        "outputId": "cef8b015-3586-4da5-c30f-6f5fd3a18821"
      },
      "execution_count": null,
      "outputs": [
        {
          "output_type": "display_data",
          "data": {
            "text/plain": [
              "[1] NA NA NA NA NA"
            ],
            "text/latex": "\\begin{enumerate*}\n\\item <NA>\n\\item <NA>\n\\item <NA>\n\\item <NA>\n\\item <NA>\n\\end{enumerate*}\n",
            "text/markdown": "1. &lt;NA&gt;\n2. &lt;NA&gt;\n3. &lt;NA&gt;\n4. &lt;NA&gt;\n5. &lt;NA&gt;\n\n\n",
            "text/html": [
              "<style>\n",
              ".list-inline {list-style: none; margin:0; padding: 0}\n",
              ".list-inline>li {display: inline-block}\n",
              ".list-inline>li:not(:last-child)::after {content: \"\\00b7\"; padding: 0 .5ex}\n",
              "</style>\n",
              "<ol class=list-inline><li>&lt;NA&gt;</li><li>&lt;NA&gt;</li><li>&lt;NA&gt;</li><li>&lt;NA&gt;</li><li>&lt;NA&gt;</li></ol>\n"
            ]
          },
          "metadata": {}
        },
        {
          "output_type": "display_data",
          "data": {
            "text/plain": [
              "[1] FALSE FALSE FALSE  TRUE FALSE"
            ],
            "text/latex": "\\begin{enumerate*}\n\\item FALSE\n\\item FALSE\n\\item FALSE\n\\item TRUE\n\\item FALSE\n\\end{enumerate*}\n",
            "text/markdown": "1. FALSE\n2. FALSE\n3. FALSE\n4. TRUE\n5. FALSE\n\n\n",
            "text/html": [
              "<style>\n",
              ".list-inline {list-style: none; margin:0; padding: 0}\n",
              ".list-inline>li {display: inline-block}\n",
              ".list-inline>li:not(:last-child)::after {content: \"\\00b7\"; padding: 0 .5ex}\n",
              "</style>\n",
              "<ol class=list-inline><li>FALSE</li><li>FALSE</li><li>FALSE</li><li>TRUE</li><li>FALSE</li></ol>\n"
            ]
          },
          "metadata": {}
        }
      ]
    },
    {
      "cell_type": "code",
      "source": [
        "sum(the.best)"
      ],
      "metadata": {
        "colab": {
          "base_uri": "https://localhost:8080/",
          "height": 34
        },
        "id": "4lExbDNrc3Px",
        "outputId": "a80672a1-dc7b-4274-c808-638e14b53499"
      },
      "execution_count": null,
      "outputs": [
        {
          "output_type": "display_data",
          "data": {
            "text/plain": [
              "[1] 3"
            ],
            "text/latex": "3",
            "text/markdown": "3",
            "text/html": [
              "3"
            ]
          },
          "metadata": {}
        }
      ]
    },
    {
      "cell_type": "code",
      "source": [
        "any(the.best)"
      ],
      "metadata": {
        "colab": {
          "base_uri": "https://localhost:8080/",
          "height": 34
        },
        "id": "z0xc-Wdcdauo",
        "outputId": "a115b3a4-ebf2-4b49-c87d-dc862a0efd1b"
      },
      "execution_count": null,
      "outputs": [
        {
          "output_type": "display_data",
          "data": {
            "text/plain": [
              "[1] TRUE"
            ],
            "text/latex": "TRUE",
            "text/markdown": "TRUE",
            "text/html": [
              "TRUE"
            ]
          },
          "metadata": {}
        }
      ]
    },
    {
      "cell_type": "code",
      "source": [
        "all(the.best)"
      ],
      "metadata": {
        "colab": {
          "base_uri": "https://localhost:8080/",
          "height": 34
        },
        "id": "DJKfYGEydcQW",
        "outputId": "5ca6a6bd-165f-4558-d4eb-b789e974195f"
      },
      "execution_count": null,
      "outputs": [
        {
          "output_type": "display_data",
          "data": {
            "text/plain": [
              "[1] FALSE"
            ],
            "text/latex": "FALSE",
            "text/markdown": "FALSE",
            "text/html": [
              "FALSE"
            ]
          },
          "metadata": {}
        }
      ]
    },
    {
      "cell_type": "markdown",
      "source": [
        "### Summarizing a Vector!"
      ],
      "metadata": {
        "id": "vDiDFK29qP_F"
      }
    },
    {
      "cell_type": "code",
      "source": [
        " min(baskets.of.Granny)\n",
        " max(baskets.of.Granny)\n",
        " sum(baskets.of.Granny)\n",
        " prod(baskets.of.Granny)"
      ],
      "metadata": {
        "colab": {
          "base_uri": "https://localhost:8080/",
          "height": 86
        },
        "id": "ahc60sOEdvV1",
        "outputId": "2402bc0d-ddc9-4f80-98b0-e54d45371aee"
      },
      "execution_count": null,
      "outputs": [
        {
          "output_type": "display_data",
          "data": {
            "text/plain": [
              "[1] 3"
            ],
            "text/latex": "3",
            "text/markdown": "3",
            "text/html": [
              "3"
            ]
          },
          "metadata": {}
        },
        {
          "output_type": "display_data",
          "data": {
            "text/plain": [
              "[1] 12"
            ],
            "text/latex": "12",
            "text/markdown": "12",
            "text/html": [
              "12"
            ]
          },
          "metadata": {}
        },
        {
          "output_type": "display_data",
          "data": {
            "text/plain": [
              "[1] 39"
            ],
            "text/latex": "39",
            "text/markdown": "39",
            "text/html": [
              "39"
            ]
          },
          "metadata": {}
        },
        {
          "output_type": "display_data",
          "data": {
            "text/plain": [
              "[1] 38880"
            ],
            "text/latex": "38880",
            "text/markdown": "38880",
            "text/html": [
              "38880"
            ]
          },
          "metadata": {}
        }
      ]
    },
    {
      "cell_type": "code",
      "source": [
        "sum(baskets.of.Granny, baskets.of.Geraldine)"
      ],
      "metadata": {
        "colab": {
          "base_uri": "https://localhost:8080/",
          "height": 34
        },
        "id": "3-rK381Ad7fq",
        "outputId": "fc8fbf27-a67f-482b-9fa6-12695887468d"
      },
      "execution_count": null,
      "outputs": [
        {
          "output_type": "display_data",
          "data": {
            "text/plain": [
              "[1] 75"
            ],
            "text/latex": "75",
            "text/markdown": "75",
            "text/html": [
              "75"
            ]
          },
          "metadata": {}
        }
      ]
    },
    {
      "cell_type": "code",
      "source": [
        "x <- c(3, 6, 2, NA, 1)\n",
        "sum(x)\n",
        "sum(x, na.rm = TRUE)"
      ],
      "metadata": {
        "colab": {
          "base_uri": "https://localhost:8080/",
          "height": 52
        },
        "id": "BYlrh-I6hDFn",
        "outputId": "0292ad1b-db36-4bf9-b46c-cd1a35522436"
      },
      "execution_count": null,
      "outputs": [
        {
          "output_type": "display_data",
          "data": {
            "text/plain": [
              "[1] NA"
            ],
            "text/latex": "<NA>",
            "text/markdown": "&lt;NA&gt;",
            "text/html": [
              "&lt;NA&gt;"
            ]
          },
          "metadata": {}
        },
        {
          "output_type": "display_data",
          "data": {
            "text/plain": [
              "[1] 12"
            ],
            "text/latex": "12",
            "text/markdown": "12",
            "text/html": [
              "12"
            ]
          },
          "metadata": {}
        }
      ]
    },
    {
      "cell_type": "code",
      "source": [
        "cumsum(x)  # Cumulative sum!"
      ],
      "metadata": {
        "colab": {
          "base_uri": "https://localhost:8080/",
          "height": 34
        },
        "id": "izsMgPPhhLo1",
        "outputId": "3c68f446-d542-4847-9dee-7ce01cd99fcb"
      },
      "execution_count": null,
      "outputs": [
        {
          "output_type": "display_data",
          "data": {
            "text/plain": [
              "[1]  3  9 11 NA NA"
            ],
            "text/latex": "\\begin{enumerate*}\n\\item 3\n\\item 9\n\\item 11\n\\item <NA>\n\\item <NA>\n\\end{enumerate*}\n",
            "text/markdown": "1. 3\n2. 9\n3. 11\n4. &lt;NA&gt;\n5. &lt;NA&gt;\n\n\n",
            "text/html": [
              "<style>\n",
              ".list-inline {list-style: none; margin:0; padding: 0}\n",
              ".list-inline>li {display: inline-block}\n",
              ".list-inline>li:not(:last-child)::after {content: \"\\00b7\"; padding: 0 .5ex}\n",
              "</style>\n",
              "<ol class=list-inline><li>3</li><li>9</li><li>11</li><li>&lt;NA&gt;</li><li>&lt;NA&gt;</li></ol>\n"
            ]
          },
          "metadata": {}
        }
      ]
    },
    {
      "cell_type": "code",
      "source": [
        "cumprod(x)  # Cumulative product!"
      ],
      "metadata": {
        "colab": {
          "base_uri": "https://localhost:8080/",
          "height": 34
        },
        "id": "UQjds8ERhYNy",
        "outputId": "8091c764-e95c-4a88-aa77-6334254967c0"
      },
      "execution_count": null,
      "outputs": [
        {
          "output_type": "display_data",
          "data": {
            "text/plain": [
              "[1]  3 18 36 NA NA"
            ],
            "text/latex": "\\begin{enumerate*}\n\\item 3\n\\item 18\n\\item 36\n\\item <NA>\n\\item <NA>\n\\end{enumerate*}\n",
            "text/markdown": "1. 3\n2. 18\n3. 36\n4. &lt;NA&gt;\n5. &lt;NA&gt;\n\n\n",
            "text/html": [
              "<style>\n",
              ".list-inline {list-style: none; margin:0; padding: 0}\n",
              ".list-inline>li {display: inline-block}\n",
              ".list-inline>li:not(:last-child)::after {content: \"\\00b7\"; padding: 0 .5ex}\n",
              "</style>\n",
              "<ol class=list-inline><li>3</li><li>18</li><li>36</li><li>&lt;NA&gt;</li><li>&lt;NA&gt;</li></ol>\n"
            ]
          },
          "metadata": {}
        }
      ]
    },
    {
      "cell_type": "code",
      "source": [
        "cummin(x)"
      ],
      "metadata": {
        "colab": {
          "base_uri": "https://localhost:8080/",
          "height": 34
        },
        "id": "EpiOtRWzhrjo",
        "outputId": "db2976c4-43f4-4f85-aa29-5a921e1cd256"
      },
      "execution_count": null,
      "outputs": [
        {
          "output_type": "display_data",
          "data": {
            "text/plain": [
              "[1]  3  3  2 NA NA"
            ],
            "text/latex": "\\begin{enumerate*}\n\\item 3\n\\item 3\n\\item 2\n\\item <NA>\n\\item <NA>\n\\end{enumerate*}\n",
            "text/markdown": "1. 3\n2. 3\n3. 2\n4. &lt;NA&gt;\n5. &lt;NA&gt;\n\n\n",
            "text/html": [
              "<style>\n",
              ".list-inline {list-style: none; margin:0; padding: 0}\n",
              ".list-inline>li {display: inline-block}\n",
              ".list-inline>li:not(:last-child)::after {content: \"\\00b7\"; padding: 0 .5ex}\n",
              "</style>\n",
              "<ol class=list-inline><li>3</li><li>3</li><li>2</li><li>&lt;NA&gt;</li><li>&lt;NA&gt;</li></ol>\n"
            ]
          },
          "metadata": {}
        }
      ]
    },
    {
      "cell_type": "code",
      "source": [
        "cummax(x)"
      ],
      "metadata": {
        "colab": {
          "base_uri": "https://localhost:8080/",
          "height": 34
        },
        "id": "mQ5PPL3ahuPu",
        "outputId": "a324559f-711c-464b-a12c-1202c080eeca"
      },
      "execution_count": null,
      "outputs": [
        {
          "output_type": "display_data",
          "data": {
            "text/plain": [
              "[1]  3  6  6 NA NA"
            ],
            "text/latex": "\\begin{enumerate*}\n\\item 3\n\\item 6\n\\item 6\n\\item <NA>\n\\item <NA>\n\\end{enumerate*}\n",
            "text/markdown": "1. 3\n2. 6\n3. 6\n4. &lt;NA&gt;\n5. &lt;NA&gt;\n\n\n",
            "text/html": [
              "<style>\n",
              ".list-inline {list-style: none; margin:0; padding: 0}\n",
              ".list-inline>li {display: inline-block}\n",
              ".list-inline>li:not(:last-child)::after {content: \"\\00b7\"; padding: 0 .5ex}\n",
              "</style>\n",
              "<ol class=list-inline><li>3</li><li>6</li><li>6</li><li>&lt;NA&gt;</li><li>&lt;NA&gt;</li></ol>\n"
            ]
          },
          "metadata": {}
        }
      ]
    },
    {
      "cell_type": "code",
      "source": [
        "diff(x)"
      ],
      "metadata": {
        "colab": {
          "base_uri": "https://localhost:8080/",
          "height": 34
        },
        "id": "DencbNZ4hyKA",
        "outputId": "8e8ed449-bf1b-4d2e-94d0-45c8c36bbca9"
      },
      "execution_count": null,
      "outputs": [
        {
          "output_type": "display_data",
          "data": {
            "text/plain": [
              "[1]  3 -4 NA NA"
            ],
            "text/latex": "\\begin{enumerate*}\n\\item 3\n\\item -4\n\\item <NA>\n\\item <NA>\n\\end{enumerate*}\n",
            "text/markdown": "1. 3\n2. -4\n3. &lt;NA&gt;\n4. &lt;NA&gt;\n\n\n",
            "text/html": [
              "<style>\n",
              ".list-inline {list-style: none; margin:0; padding: 0}\n",
              ".list-inline>li {display: inline-block}\n",
              ".list-inline>li:not(:last-child)::after {content: \"\\00b7\"; padding: 0 .5ex}\n",
              "</style>\n",
              "<ol class=list-inline><li>3</li><li>-4</li><li>&lt;NA&gt;</li><li>&lt;NA&gt;</li></ol>\n"
            ]
          },
          "metadata": {}
        }
      ]
    },
    {
      "cell_type": "code",
      "source": [
        "sum(baskets.of.Granny, baskets.of.Geraldine)"
      ],
      "metadata": {
        "colab": {
          "base_uri": "https://localhost:8080/",
          "height": 34
        },
        "id": "NoLhbgTLh0dC",
        "outputId": "4264af2d-4614-40cd-8f66-79ec65001595"
      },
      "execution_count": null,
      "outputs": [
        {
          "output_type": "display_data",
          "data": {
            "text/plain": [
              "[1] 75"
            ],
            "text/latex": "75",
            "text/markdown": "75",
            "text/html": [
              "75"
            ]
          },
          "metadata": {}
        }
      ]
    },
    {
      "cell_type": "code",
      "source": [
        "x <- c(3, 6, 2, NA, 1)\n",
        "sum(x)\n",
        "sum(x, na.rm = TRUE)"
      ],
      "metadata": {
        "colab": {
          "base_uri": "https://localhost:8080/",
          "height": 52
        },
        "id": "6zrx6izyiATq",
        "outputId": "6a5ac586-8a15-431b-ce9d-d9f0159de319"
      },
      "execution_count": null,
      "outputs": [
        {
          "output_type": "display_data",
          "data": {
            "text/plain": [
              "[1] NA"
            ],
            "text/latex": "<NA>",
            "text/markdown": "&lt;NA&gt;",
            "text/html": [
              "&lt;NA&gt;"
            ]
          },
          "metadata": {}
        },
        {
          "output_type": "display_data",
          "data": {
            "text/plain": [
              "[1] 12"
            ],
            "text/latex": "12",
            "text/markdown": "12",
            "text/html": [
              "12"
            ]
          },
          "metadata": {}
        }
      ]
    },
    {
      "cell_type": "code",
      "source": [
        "cumsum(baskets.of.Granny)\n"
      ],
      "metadata": {
        "colab": {
          "base_uri": "https://localhost:8080/",
          "height": 34
        },
        "id": "2kxeL9-TiS8T",
        "outputId": "3bef760f-8b87-4a2d-a47f-d891203b7247"
      },
      "execution_count": null,
      "outputs": [
        {
          "output_type": "display_data",
          "data": {
            "text/plain": [
              "[1] 12 16 21 27 36 39"
            ],
            "text/latex": "\\begin{enumerate*}\n\\item 12\n\\item 16\n\\item 21\n\\item 27\n\\item 36\n\\item 39\n\\end{enumerate*}\n",
            "text/markdown": "1. 12\n2. 16\n3. 21\n4. 27\n5. 36\n6. 39\n\n\n",
            "text/html": [
              "<style>\n",
              ".list-inline {list-style: none; margin:0; padding: 0}\n",
              ".list-inline>li {display: inline-block}\n",
              ".list-inline>li:not(:last-child)::after {content: \"\\00b7\"; padding: 0 .5ex}\n",
              "</style>\n",
              "<ol class=list-inline><li>12</li><li>16</li><li>21</li><li>27</li><li>36</li><li>39</li></ol>\n"
            ]
          },
          "metadata": {}
        }
      ]
    },
    {
      "cell_type": "code",
      "source": [
        "cummax(baskets.of.Geraldine)"
      ],
      "metadata": {
        "colab": {
          "base_uri": "https://localhost:8080/",
          "height": 34
        },
        "id": "G8X_q0vDietO",
        "outputId": "fc15ebef-031b-47e6-8394-84cbc90ce94a"
      },
      "execution_count": null,
      "outputs": [
        {
          "output_type": "display_data",
          "data": {
            "text/plain": [
              "[1]  5  5  5  5 12 12"
            ],
            "text/latex": "\\begin{enumerate*}\n\\item 5\n\\item 5\n\\item 5\n\\item 5\n\\item 12\n\\item 12\n\\end{enumerate*}\n",
            "text/markdown": "1. 5\n2. 5\n3. 5\n4. 5\n5. 12\n6. 12\n\n\n",
            "text/html": [
              "<style>\n",
              ".list-inline {list-style: none; margin:0; padding: 0}\n",
              ".list-inline>li {display: inline-block}\n",
              ".list-inline>li:not(:last-child)::after {content: \"\\00b7\"; padding: 0 .5ex}\n",
              "</style>\n",
              "<ol class=list-inline><li>5</li><li>5</li><li>5</li><li>5</li><li>12</li><li>12</li></ol>\n"
            ]
          },
          "metadata": {}
        }
      ]
    },
    {
      "cell_type": "code",
      "source": [
        " cummin(x)"
      ],
      "metadata": {
        "colab": {
          "base_uri": "https://localhost:8080/",
          "height": 34
        },
        "id": "n6WL9zq6ij2G",
        "outputId": "9d8cbc67-2295-4f54-d0b0-0fc77f67a8c7"
      },
      "execution_count": null,
      "outputs": [
        {
          "output_type": "display_data",
          "data": {
            "text/plain": [
              "[1]  3  3  2 NA NA"
            ],
            "text/latex": "\\begin{enumerate*}\n\\item 3\n\\item 3\n\\item 2\n\\item <NA>\n\\item <NA>\n\\end{enumerate*}\n",
            "text/markdown": "1. 3\n2. 3\n3. 2\n4. &lt;NA&gt;\n5. &lt;NA&gt;\n\n\n",
            "text/html": [
              "<style>\n",
              ".list-inline {list-style: none; margin:0; padding: 0}\n",
              ".list-inline>li {display: inline-block}\n",
              ".list-inline>li:not(:last-child)::after {content: \"\\00b7\"; padding: 0 .5ex}\n",
              "</style>\n",
              "<ol class=list-inline><li>3</li><li>3</li><li>2</li><li>&lt;NA&gt;</li><li>&lt;NA&gt;</li></ol>\n"
            ]
          },
          "metadata": {}
        }
      ]
    },
    {
      "cell_type": "code",
      "source": [
        "diff(baskets.of.Granny)"
      ],
      "metadata": {
        "colab": {
          "base_uri": "https://localhost:8080/",
          "height": 34
        },
        "id": "49PGsVV1ioLi",
        "outputId": "1b394a77-9282-4092-d439-366c5b8fe8b3"
      },
      "execution_count": null,
      "outputs": [
        {
          "output_type": "display_data",
          "data": {
            "text/plain": [
              "[1] -8  1  1  3 -6"
            ],
            "text/latex": "\\begin{enumerate*}\n\\item -8\n\\item 1\n\\item 1\n\\item 3\n\\item -6\n\\end{enumerate*}\n",
            "text/markdown": "1. -8\n2. 1\n3. 1\n4. 3\n5. -6\n\n\n",
            "text/html": [
              "<style>\n",
              ".list-inline {list-style: none; margin:0; padding: 0}\n",
              ".list-inline>li {display: inline-block}\n",
              ".list-inline>li:not(:last-child)::after {content: \"\\00b7\"; padding: 0 .5ex}\n",
              "</style>\n",
              "<ol class=list-inline><li>-8</li><li>1</li><li>1</li><li>3</li><li>-6</li></ol>\n"
            ]
          },
          "metadata": {}
        }
      ]
    },
    {
      "cell_type": "code",
      "source": [
        "diff(x)"
      ],
      "metadata": {
        "colab": {
          "base_uri": "https://localhost:8080/",
          "height": 34
        },
        "id": "UjzNGChHisC6",
        "outputId": "555cf9be-58a4-4452-8ea5-43e4a17f00dc"
      },
      "execution_count": null,
      "outputs": [
        {
          "output_type": "display_data",
          "data": {
            "text/plain": [
              "[1]  3 -4 NA NA"
            ],
            "text/latex": "\\begin{enumerate*}\n\\item 3\n\\item -4\n\\item <NA>\n\\item <NA>\n\\end{enumerate*}\n",
            "text/markdown": "1. 3\n2. -4\n3. &lt;NA&gt;\n4. &lt;NA&gt;\n\n\n",
            "text/html": [
              "<style>\n",
              ".list-inline {list-style: none; margin:0; padding: 0}\n",
              ".list-inline>li {display: inline-block}\n",
              ".list-inline>li:not(:last-child)::after {content: \"\\00b7\"; padding: 0 .5ex}\n",
              "</style>\n",
              "<ol class=list-inline><li>3</li><li>-4</li><li>&lt;NA&gt;</li><li>&lt;NA&gt;</li></ol>\n"
            ]
          },
          "metadata": {}
        }
      ]
    },
    {
      "cell_type": "code",
      "source": [
        "Granny.pointers <- c(10, 2, 4, 0, 4, 1, 4, 2, 7, 2, 1, 2)\n",
        "points <- Granny.pointers * c(2, 3)\n",
        "points\n",
        "sum(points)"
      ],
      "metadata": {
        "colab": {
          "base_uri": "https://localhost:8080/",
          "height": 52
        },
        "id": "YPMzK7_hiucK",
        "outputId": "698acd65-cfc3-43e3-f3ab-244e87f35b7c"
      },
      "execution_count": null,
      "outputs": [
        {
          "output_type": "display_data",
          "data": {
            "text/plain": [
              " [1] 20  6  8  0  8  3  8  6 14  6  2  6"
            ],
            "text/latex": "\\begin{enumerate*}\n\\item 20\n\\item 6\n\\item 8\n\\item 0\n\\item 8\n\\item 3\n\\item 8\n\\item 6\n\\item 14\n\\item 6\n\\item 2\n\\item 6\n\\end{enumerate*}\n",
            "text/markdown": "1. 20\n2. 6\n3. 8\n4. 0\n5. 8\n6. 3\n7. 8\n8. 6\n9. 14\n10. 6\n11. 2\n12. 6\n\n\n",
            "text/html": [
              "<style>\n",
              ".list-inline {list-style: none; margin:0; padding: 0}\n",
              ".list-inline>li {display: inline-block}\n",
              ".list-inline>li:not(:last-child)::after {content: \"\\00b7\"; padding: 0 .5ex}\n",
              "</style>\n",
              "<ol class=list-inline><li>20</li><li>6</li><li>8</li><li>0</li><li>8</li><li>3</li><li>8</li><li>6</li><li>14</li><li>6</li><li>2</li><li>6</li></ol>\n"
            ]
          },
          "metadata": {}
        },
        {
          "output_type": "display_data",
          "data": {
            "text/plain": [
              "[1] 87"
            ],
            "text/latex": "87",
            "text/markdown": "87",
            "text/html": [
              "87"
            ]
          },
          "metadata": {}
        }
      ]
    },
    {
      "cell_type": "code",
      "source": [
        "c(2, 3)"
      ],
      "metadata": {
        "colab": {
          "base_uri": "https://localhost:8080/",
          "height": 34
        },
        "id": "IjB2e8VHi-DW",
        "outputId": "85c86e04-5bf4-4c8a-938f-298ff846f571"
      },
      "execution_count": null,
      "outputs": [
        {
          "output_type": "display_data",
          "data": {
            "text/plain": [
              "[1] 2 3"
            ],
            "text/latex": "\\begin{enumerate*}\n\\item 2\n\\item 3\n\\end{enumerate*}\n",
            "text/markdown": "1. 2\n2. 3\n\n\n",
            "text/html": [
              "<style>\n",
              ".list-inline {list-style: none; margin:0; padding: 0}\n",
              ".list-inline>li {display: inline-block}\n",
              ".list-inline>li:not(:last-child)::after {content: \"\\00b7\"; padding: 0 .5ex}\n",
              "</style>\n",
              "<ol class=list-inline><li>2</li><li>3</li></ol>\n"
            ]
          },
          "metadata": {}
        }
      ]
    },
    {
      "cell_type": "code",
      "source": [
        "sum(Granny.pointers * c(2, 3))"
      ],
      "metadata": {
        "colab": {
          "base_uri": "https://localhost:8080/",
          "height": 34
        },
        "id": "iwbGTrNSjML4",
        "outputId": "70f94187-3664-4d3e-a0af-decf048de377"
      },
      "execution_count": null,
      "outputs": [
        {
          "output_type": "display_data",
          "data": {
            "text/plain": [
              "[1] 87"
            ],
            "text/latex": "87",
            "text/markdown": "87",
            "text/html": [
              "87"
            ]
          },
          "metadata": {}
        }
      ]
    },
    {
      "cell_type": "code",
      "source": [
        "round(diff(baskets.of.Granny) / baskets.of.Granny * 100 )"
      ],
      "metadata": {
        "colab": {
          "base_uri": "https://localhost:8080/",
          "height": 71
        },
        "id": "rJy8WOYCjR14",
        "outputId": "32a8f0e5-42af-4e7c-e308-90d2123274c4"
      },
      "execution_count": null,
      "outputs": [
        {
          "output_type": "stream",
          "name": "stderr",
          "text": [
            "Warning message in diff(baskets.of.Granny)/baskets.of.Granny:\n",
            "“longer object length is not a multiple of shorter object length”\n"
          ]
        },
        {
          "output_type": "display_data",
          "data": {
            "text/plain": [
              "[1]  -67   25   20   50  -67 -267"
            ],
            "text/latex": "\\begin{enumerate*}\n\\item -67\n\\item 25\n\\item 20\n\\item 50\n\\item -67\n\\item -267\n\\end{enumerate*}\n",
            "text/markdown": "1. -67\n2. 25\n3. 20\n4. 50\n5. -67\n6. -267\n\n\n",
            "text/html": [
              "<style>\n",
              ".list-inline {list-style: none; margin:0; padding: 0}\n",
              ".list-inline>li {display: inline-block}\n",
              ".list-inline>li:not(:last-child)::after {content: \"\\00b7\"; padding: 0 .5ex}\n",
              "</style>\n",
              "<ol class=list-inline><li>-67</li><li>25</li><li>20</li><li>50</li><li>-67</li><li>-267</li></ol>\n"
            ]
          },
          "metadata": {}
        }
      ]
    },
    {
      "cell_type": "code",
      "source": [
        "round(diff(baskets.of.Granny) / baskets.of.Granny[1:5] * 100 )"
      ],
      "metadata": {
        "colab": {
          "base_uri": "https://localhost:8080/",
          "height": 34
        },
        "id": "lrHjCSo4jcYJ",
        "outputId": "74581acc-4d9e-409c-bcfc-13b666648df5"
      },
      "execution_count": null,
      "outputs": [
        {
          "output_type": "display_data",
          "data": {
            "text/plain": [
              "[1] -67  25  20  50 -67"
            ],
            "text/latex": "\\begin{enumerate*}\n\\item -67\n\\item 25\n\\item 20\n\\item 50\n\\item -67\n\\end{enumerate*}\n",
            "text/markdown": "1. -67\n2. 25\n3. 20\n4. 50\n5. -67\n\n\n",
            "text/html": [
              "<style>\n",
              ".list-inline {list-style: none; margin:0; padding: 0}\n",
              ".list-inline>li {display: inline-block}\n",
              ".list-inline>li:not(:last-child)::after {content: \"\\00b7\"; padding: 0 .5ex}\n",
              "</style>\n",
              "<ol class=list-inline><li>-67</li><li>25</li><li>20</li><li>50</li><li>-67</li></ol>\n"
            ]
          },
          "metadata": {}
        }
      ]
    }
  ]
}